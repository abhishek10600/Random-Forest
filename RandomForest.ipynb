{
  "nbformat": 4,
  "nbformat_minor": 0,
  "metadata": {
    "colab": {
      "provenance": []
    },
    "kernelspec": {
      "name": "python3",
      "display_name": "Python 3"
    },
    "language_info": {
      "name": "python"
    }
  },
  "cells": [
    {
      "cell_type": "code",
      "execution_count": 127,
      "metadata": {
        "id": "iBjAjHbkp4si"
      },
      "outputs": [],
      "source": [
        "import numpy as np\n",
        "import pandas as pd\n",
        "from sklearn.datasets import make_classification\n",
        "import random"
      ]
    },
    {
      "cell_type": "code",
      "source": [
        "X,y = make_classification(n_features = 5, n_redundant = 0, n_informative = 5, n_clusters_per_class = 1)"
      ],
      "metadata": {
        "id": "xCjAsCnmqGUA"
      },
      "execution_count": 128,
      "outputs": []
    },
    {
      "cell_type": "code",
      "source": [
        "df = pd.DataFrame(X, columns = [\"col1\", \"col2\", \"col3\", \"col4\", \"col5\"])\n",
        "df[\"target\"] = y\n",
        "print(df.shape)\n",
        "df.head()"
      ],
      "metadata": {
        "colab": {
          "base_uri": "https://localhost:8080/",
          "height": 224
        },
        "id": "qekBUUmGqaZg",
        "outputId": "56260be3-fbf6-4460-fde0-7b67e104a2bd"
      },
      "execution_count": 129,
      "outputs": [
        {
          "output_type": "stream",
          "name": "stdout",
          "text": [
            "(100, 6)\n"
          ]
        },
        {
          "output_type": "execute_result",
          "data": {
            "text/plain": [
              "       col1      col2      col3      col4      col5  target\n",
              "0  0.582413  1.228594  0.651436  0.223723  1.007967       0\n",
              "1 -0.254921  1.376069  2.980657  2.502444 -0.802091       1\n",
              "2 -0.942192  0.044610  0.853697  2.460789 -0.202895       1\n",
              "3 -2.545959  1.029097  2.083467  1.963722 -0.404573       1\n",
              "4 -0.580664  1.379069 -1.052117 -0.203153 -1.297876       0"
            ],
            "text/html": [
              "\n",
              "  <div id=\"df-c2ebee26-c82c-4533-b87f-dbac335d8327\" class=\"colab-df-container\">\n",
              "    <div>\n",
              "<style scoped>\n",
              "    .dataframe tbody tr th:only-of-type {\n",
              "        vertical-align: middle;\n",
              "    }\n",
              "\n",
              "    .dataframe tbody tr th {\n",
              "        vertical-align: top;\n",
              "    }\n",
              "\n",
              "    .dataframe thead th {\n",
              "        text-align: right;\n",
              "    }\n",
              "</style>\n",
              "<table border=\"1\" class=\"dataframe\">\n",
              "  <thead>\n",
              "    <tr style=\"text-align: right;\">\n",
              "      <th></th>\n",
              "      <th>col1</th>\n",
              "      <th>col2</th>\n",
              "      <th>col3</th>\n",
              "      <th>col4</th>\n",
              "      <th>col5</th>\n",
              "      <th>target</th>\n",
              "    </tr>\n",
              "  </thead>\n",
              "  <tbody>\n",
              "    <tr>\n",
              "      <th>0</th>\n",
              "      <td>0.582413</td>\n",
              "      <td>1.228594</td>\n",
              "      <td>0.651436</td>\n",
              "      <td>0.223723</td>\n",
              "      <td>1.007967</td>\n",
              "      <td>0</td>\n",
              "    </tr>\n",
              "    <tr>\n",
              "      <th>1</th>\n",
              "      <td>-0.254921</td>\n",
              "      <td>1.376069</td>\n",
              "      <td>2.980657</td>\n",
              "      <td>2.502444</td>\n",
              "      <td>-0.802091</td>\n",
              "      <td>1</td>\n",
              "    </tr>\n",
              "    <tr>\n",
              "      <th>2</th>\n",
              "      <td>-0.942192</td>\n",
              "      <td>0.044610</td>\n",
              "      <td>0.853697</td>\n",
              "      <td>2.460789</td>\n",
              "      <td>-0.202895</td>\n",
              "      <td>1</td>\n",
              "    </tr>\n",
              "    <tr>\n",
              "      <th>3</th>\n",
              "      <td>-2.545959</td>\n",
              "      <td>1.029097</td>\n",
              "      <td>2.083467</td>\n",
              "      <td>1.963722</td>\n",
              "      <td>-0.404573</td>\n",
              "      <td>1</td>\n",
              "    </tr>\n",
              "    <tr>\n",
              "      <th>4</th>\n",
              "      <td>-0.580664</td>\n",
              "      <td>1.379069</td>\n",
              "      <td>-1.052117</td>\n",
              "      <td>-0.203153</td>\n",
              "      <td>-1.297876</td>\n",
              "      <td>0</td>\n",
              "    </tr>\n",
              "  </tbody>\n",
              "</table>\n",
              "</div>\n",
              "    <div class=\"colab-df-buttons\">\n",
              "\n",
              "  <div class=\"colab-df-container\">\n",
              "    <button class=\"colab-df-convert\" onclick=\"convertToInteractive('df-c2ebee26-c82c-4533-b87f-dbac335d8327')\"\n",
              "            title=\"Convert this dataframe to an interactive table.\"\n",
              "            style=\"display:none;\">\n",
              "\n",
              "  <svg xmlns=\"http://www.w3.org/2000/svg\" height=\"24px\" viewBox=\"0 -960 960 960\">\n",
              "    <path d=\"M120-120v-720h720v720H120Zm60-500h600v-160H180v160Zm220 220h160v-160H400v160Zm0 220h160v-160H400v160ZM180-400h160v-160H180v160Zm440 0h160v-160H620v160ZM180-180h160v-160H180v160Zm440 0h160v-160H620v160Z\"/>\n",
              "  </svg>\n",
              "    </button>\n",
              "\n",
              "  <style>\n",
              "    .colab-df-container {\n",
              "      display:flex;\n",
              "      gap: 12px;\n",
              "    }\n",
              "\n",
              "    .colab-df-convert {\n",
              "      background-color: #E8F0FE;\n",
              "      border: none;\n",
              "      border-radius: 50%;\n",
              "      cursor: pointer;\n",
              "      display: none;\n",
              "      fill: #1967D2;\n",
              "      height: 32px;\n",
              "      padding: 0 0 0 0;\n",
              "      width: 32px;\n",
              "    }\n",
              "\n",
              "    .colab-df-convert:hover {\n",
              "      background-color: #E2EBFA;\n",
              "      box-shadow: 0px 1px 2px rgba(60, 64, 67, 0.3), 0px 1px 3px 1px rgba(60, 64, 67, 0.15);\n",
              "      fill: #174EA6;\n",
              "    }\n",
              "\n",
              "    .colab-df-buttons div {\n",
              "      margin-bottom: 4px;\n",
              "    }\n",
              "\n",
              "    [theme=dark] .colab-df-convert {\n",
              "      background-color: #3B4455;\n",
              "      fill: #D2E3FC;\n",
              "    }\n",
              "\n",
              "    [theme=dark] .colab-df-convert:hover {\n",
              "      background-color: #434B5C;\n",
              "      box-shadow: 0px 1px 3px 1px rgba(0, 0, 0, 0.15);\n",
              "      filter: drop-shadow(0px 1px 2px rgba(0, 0, 0, 0.3));\n",
              "      fill: #FFFFFF;\n",
              "    }\n",
              "  </style>\n",
              "\n",
              "    <script>\n",
              "      const buttonEl =\n",
              "        document.querySelector('#df-c2ebee26-c82c-4533-b87f-dbac335d8327 button.colab-df-convert');\n",
              "      buttonEl.style.display =\n",
              "        google.colab.kernel.accessAllowed ? 'block' : 'none';\n",
              "\n",
              "      async function convertToInteractive(key) {\n",
              "        const element = document.querySelector('#df-c2ebee26-c82c-4533-b87f-dbac335d8327');\n",
              "        const dataTable =\n",
              "          await google.colab.kernel.invokeFunction('convertToInteractive',\n",
              "                                                    [key], {});\n",
              "        if (!dataTable) return;\n",
              "\n",
              "        const docLinkHtml = 'Like what you see? Visit the ' +\n",
              "          '<a target=\"_blank\" href=https://colab.research.google.com/notebooks/data_table.ipynb>data table notebook</a>'\n",
              "          + ' to learn more about interactive tables.';\n",
              "        element.innerHTML = '';\n",
              "        dataTable['output_type'] = 'display_data';\n",
              "        await google.colab.output.renderOutput(dataTable, element);\n",
              "        const docLink = document.createElement('div');\n",
              "        docLink.innerHTML = docLinkHtml;\n",
              "        element.appendChild(docLink);\n",
              "      }\n",
              "    </script>\n",
              "  </div>\n",
              "\n",
              "\n",
              "<div id=\"df-6b45e592-dd35-48f3-b14b-d29849adce86\">\n",
              "  <button class=\"colab-df-quickchart\" onclick=\"quickchart('df-6b45e592-dd35-48f3-b14b-d29849adce86')\"\n",
              "            title=\"Suggest charts\"\n",
              "            style=\"display:none;\">\n",
              "\n",
              "<svg xmlns=\"http://www.w3.org/2000/svg\" height=\"24px\"viewBox=\"0 0 24 24\"\n",
              "     width=\"24px\">\n",
              "    <g>\n",
              "        <path d=\"M19 3H5c-1.1 0-2 .9-2 2v14c0 1.1.9 2 2 2h14c1.1 0 2-.9 2-2V5c0-1.1-.9-2-2-2zM9 17H7v-7h2v7zm4 0h-2V7h2v10zm4 0h-2v-4h2v4z\"/>\n",
              "    </g>\n",
              "</svg>\n",
              "  </button>\n",
              "\n",
              "<style>\n",
              "  .colab-df-quickchart {\n",
              "      --bg-color: #E8F0FE;\n",
              "      --fill-color: #1967D2;\n",
              "      --hover-bg-color: #E2EBFA;\n",
              "      --hover-fill-color: #174EA6;\n",
              "      --disabled-fill-color: #AAA;\n",
              "      --disabled-bg-color: #DDD;\n",
              "  }\n",
              "\n",
              "  [theme=dark] .colab-df-quickchart {\n",
              "      --bg-color: #3B4455;\n",
              "      --fill-color: #D2E3FC;\n",
              "      --hover-bg-color: #434B5C;\n",
              "      --hover-fill-color: #FFFFFF;\n",
              "      --disabled-bg-color: #3B4455;\n",
              "      --disabled-fill-color: #666;\n",
              "  }\n",
              "\n",
              "  .colab-df-quickchart {\n",
              "    background-color: var(--bg-color);\n",
              "    border: none;\n",
              "    border-radius: 50%;\n",
              "    cursor: pointer;\n",
              "    display: none;\n",
              "    fill: var(--fill-color);\n",
              "    height: 32px;\n",
              "    padding: 0;\n",
              "    width: 32px;\n",
              "  }\n",
              "\n",
              "  .colab-df-quickchart:hover {\n",
              "    background-color: var(--hover-bg-color);\n",
              "    box-shadow: 0 1px 2px rgba(60, 64, 67, 0.3), 0 1px 3px 1px rgba(60, 64, 67, 0.15);\n",
              "    fill: var(--button-hover-fill-color);\n",
              "  }\n",
              "\n",
              "  .colab-df-quickchart-complete:disabled,\n",
              "  .colab-df-quickchart-complete:disabled:hover {\n",
              "    background-color: var(--disabled-bg-color);\n",
              "    fill: var(--disabled-fill-color);\n",
              "    box-shadow: none;\n",
              "  }\n",
              "\n",
              "  .colab-df-spinner {\n",
              "    border: 2px solid var(--fill-color);\n",
              "    border-color: transparent;\n",
              "    border-bottom-color: var(--fill-color);\n",
              "    animation:\n",
              "      spin 1s steps(1) infinite;\n",
              "  }\n",
              "\n",
              "  @keyframes spin {\n",
              "    0% {\n",
              "      border-color: transparent;\n",
              "      border-bottom-color: var(--fill-color);\n",
              "      border-left-color: var(--fill-color);\n",
              "    }\n",
              "    20% {\n",
              "      border-color: transparent;\n",
              "      border-left-color: var(--fill-color);\n",
              "      border-top-color: var(--fill-color);\n",
              "    }\n",
              "    30% {\n",
              "      border-color: transparent;\n",
              "      border-left-color: var(--fill-color);\n",
              "      border-top-color: var(--fill-color);\n",
              "      border-right-color: var(--fill-color);\n",
              "    }\n",
              "    40% {\n",
              "      border-color: transparent;\n",
              "      border-right-color: var(--fill-color);\n",
              "      border-top-color: var(--fill-color);\n",
              "    }\n",
              "    60% {\n",
              "      border-color: transparent;\n",
              "      border-right-color: var(--fill-color);\n",
              "    }\n",
              "    80% {\n",
              "      border-color: transparent;\n",
              "      border-right-color: var(--fill-color);\n",
              "      border-bottom-color: var(--fill-color);\n",
              "    }\n",
              "    90% {\n",
              "      border-color: transparent;\n",
              "      border-bottom-color: var(--fill-color);\n",
              "    }\n",
              "  }\n",
              "</style>\n",
              "\n",
              "  <script>\n",
              "    async function quickchart(key) {\n",
              "      const quickchartButtonEl =\n",
              "        document.querySelector('#' + key + ' button');\n",
              "      quickchartButtonEl.disabled = true;  // To prevent multiple clicks.\n",
              "      quickchartButtonEl.classList.add('colab-df-spinner');\n",
              "      try {\n",
              "        const charts = await google.colab.kernel.invokeFunction(\n",
              "            'suggestCharts', [key], {});\n",
              "      } catch (error) {\n",
              "        console.error('Error during call to suggestCharts:', error);\n",
              "      }\n",
              "      quickchartButtonEl.classList.remove('colab-df-spinner');\n",
              "      quickchartButtonEl.classList.add('colab-df-quickchart-complete');\n",
              "    }\n",
              "    (() => {\n",
              "      let quickchartButtonEl =\n",
              "        document.querySelector('#df-6b45e592-dd35-48f3-b14b-d29849adce86 button');\n",
              "      quickchartButtonEl.style.display =\n",
              "        google.colab.kernel.accessAllowed ? 'block' : 'none';\n",
              "    })();\n",
              "  </script>\n",
              "</div>\n",
              "\n",
              "    </div>\n",
              "  </div>\n"
            ],
            "application/vnd.google.colaboratory.intrinsic+json": {
              "type": "dataframe",
              "variable_name": "df",
              "summary": "{\n  \"name\": \"df\",\n  \"rows\": 100,\n  \"fields\": [\n    {\n      \"column\": \"col1\",\n      \"properties\": {\n        \"dtype\": \"number\",\n        \"std\": 1.5166380132831718,\n        \"min\": -3.869262721457694,\n        \"max\": 5.622636769717668,\n        \"num_unique_values\": 100,\n        \"samples\": [\n          -1.964535293860512,\n          0.6255884989925737,\n          -2.61121873018151\n        ],\n        \"semantic_type\": \"\",\n        \"description\": \"\"\n      }\n    },\n    {\n      \"column\": \"col2\",\n      \"properties\": {\n        \"dtype\": \"number\",\n        \"std\": 0.9571823707298522,\n        \"min\": -1.9095989978562886,\n        \"max\": 3.739377685875601,\n        \"num_unique_values\": 100,\n        \"samples\": [\n          1.64744102384014,\n          0.9619307655018732,\n          0.1868500442097638\n        ],\n        \"semantic_type\": \"\",\n        \"description\": \"\"\n      }\n    },\n    {\n      \"column\": \"col3\",\n      \"properties\": {\n        \"dtype\": \"number\",\n        \"std\": 1.6397093023058016,\n        \"min\": -4.613092005167097,\n        \"max\": 4.261483464299801,\n        \"num_unique_values\": 100,\n        \"samples\": [\n          0.24450230883650026,\n          2.519091810717015,\n          1.8348945618431158\n        ],\n        \"semantic_type\": \"\",\n        \"description\": \"\"\n      }\n    },\n    {\n      \"column\": \"col4\",\n      \"properties\": {\n        \"dtype\": \"number\",\n        \"std\": 1.5353627319907506,\n        \"min\": -3.759077623929844,\n        \"max\": 3.3830364937594695,\n        \"num_unique_values\": 100,\n        \"samples\": [\n          -0.003214265210470524,\n          2.082652810466401,\n          3.235151645170579\n        ],\n        \"semantic_type\": \"\",\n        \"description\": \"\"\n      }\n    },\n    {\n      \"column\": \"col5\",\n      \"properties\": {\n        \"dtype\": \"number\",\n        \"std\": 1.0722262118565529,\n        \"min\": -4.144908542449899,\n        \"max\": 1.3850835750656256,\n        \"num_unique_values\": 100,\n        \"samples\": [\n          -1.0386370292968286,\n          -1.2133945886685507,\n          0.3784744108234317\n        ],\n        \"semantic_type\": \"\",\n        \"description\": \"\"\n      }\n    },\n    {\n      \"column\": \"target\",\n      \"properties\": {\n        \"dtype\": \"number\",\n        \"std\": 0,\n        \"min\": 0,\n        \"max\": 1,\n        \"num_unique_values\": 2,\n        \"samples\": [\n          1,\n          0\n        ],\n        \"semantic_type\": \"\",\n        \"description\": \"\"\n      }\n    }\n  ]\n}"
            }
          },
          "metadata": {},
          "execution_count": 129
        }
      ]
    },
    {
      "cell_type": "code",
      "source": [
        "# function for row sampling\n",
        "def sample_rows(df, percent):\n",
        "  return df.sample(int(percent * df.shape[0]), replace = True)"
      ],
      "metadata": {
        "id": "hiaK6p3fqr6e"
      },
      "execution_count": 130,
      "outputs": []
    },
    {
      "cell_type": "code",
      "source": [
        "# function for feature(column) sampling\n",
        "def sample_features(df, percent):\n",
        "  cols = random.sample(df.columns.tolist()[:-1], int(percent * (df.shape[1]-1)))\n",
        "  new_df = df[cols]\n",
        "  new_df[\"target\"] = df[\"target\"]\n",
        "  return new_df"
      ],
      "metadata": {
        "id": "1VhkbKjWrBzq"
      },
      "execution_count": 131,
      "outputs": []
    },
    {
      "cell_type": "code",
      "source": [
        "#function for combined sampling\n",
        "def combined_sampling(df, row_percent, col_percent):\n",
        "  new_df = sample_rows(df, row_percent)\n",
        "  return sample_features(new_df, col_percent)"
      ],
      "metadata": {
        "id": "evkyg2vLriPx"
      },
      "execution_count": 132,
      "outputs": []
    },
    {
      "cell_type": "code",
      "source": [
        "df1 = sample_rows(df, 0.2)"
      ],
      "metadata": {
        "id": "5KtLC3a5r8_0"
      },
      "execution_count": 125,
      "outputs": []
    },
    {
      "cell_type": "code",
      "source": [
        "df2 = sample_rows(df, 0.2)"
      ],
      "metadata": {
        "id": "brazKjEisX5A"
      },
      "execution_count": 126,
      "outputs": []
    },
    {
      "cell_type": "code",
      "source": [
        "df3 = sample_rows(df, 0.2)"
      ],
      "metadata": {
        "id": "T3ViQ_B0ssU8"
      },
      "execution_count": 63,
      "outputs": []
    },
    {
      "cell_type": "code",
      "source": [],
      "metadata": {
        "id": "RFaIJ4_Hs3hB"
      },
      "execution_count": null,
      "outputs": []
    },
    {
      "cell_type": "code",
      "source": [
        "from sklearn.tree import DecisionTreeClassifier\n",
        "\n",
        "clf1 = DecisionTreeClassifier()\n",
        "clf2 = DecisionTreeClassifier()\n",
        "clf3 = DecisionTreeClassifier()"
      ],
      "metadata": {
        "id": "ThsCZlOgs7G-"
      },
      "execution_count": 64,
      "outputs": []
    },
    {
      "cell_type": "code",
      "source": [
        "clf1.fit(df1.iloc[:,0:5], df1.iloc[:,-1])\n",
        "clf2.fit(df2.iloc[:,0:5], df2.iloc[:,-1])\n",
        "clf3.fit(df3.iloc[:,0:5], df3.iloc[:,-1])"
      ],
      "metadata": {
        "colab": {
          "base_uri": "https://localhost:8080/",
          "height": 75
        },
        "id": "8iP7-49JtFnx",
        "outputId": "1cd9d5b9-5610-473b-b27e-819033b04aa4"
      },
      "execution_count": 65,
      "outputs": [
        {
          "output_type": "execute_result",
          "data": {
            "text/plain": [
              "DecisionTreeClassifier()"
            ],
            "text/html": [
              "<style>#sk-container-id-4 {color: black;background-color: white;}#sk-container-id-4 pre{padding: 0;}#sk-container-id-4 div.sk-toggleable {background-color: white;}#sk-container-id-4 label.sk-toggleable__label {cursor: pointer;display: block;width: 100%;margin-bottom: 0;padding: 0.3em;box-sizing: border-box;text-align: center;}#sk-container-id-4 label.sk-toggleable__label-arrow:before {content: \"▸\";float: left;margin-right: 0.25em;color: #696969;}#sk-container-id-4 label.sk-toggleable__label-arrow:hover:before {color: black;}#sk-container-id-4 div.sk-estimator:hover label.sk-toggleable__label-arrow:before {color: black;}#sk-container-id-4 div.sk-toggleable__content {max-height: 0;max-width: 0;overflow: hidden;text-align: left;background-color: #f0f8ff;}#sk-container-id-4 div.sk-toggleable__content pre {margin: 0.2em;color: black;border-radius: 0.25em;background-color: #f0f8ff;}#sk-container-id-4 input.sk-toggleable__control:checked~div.sk-toggleable__content {max-height: 200px;max-width: 100%;overflow: auto;}#sk-container-id-4 input.sk-toggleable__control:checked~label.sk-toggleable__label-arrow:before {content: \"▾\";}#sk-container-id-4 div.sk-estimator input.sk-toggleable__control:checked~label.sk-toggleable__label {background-color: #d4ebff;}#sk-container-id-4 div.sk-label input.sk-toggleable__control:checked~label.sk-toggleable__label {background-color: #d4ebff;}#sk-container-id-4 input.sk-hidden--visually {border: 0;clip: rect(1px 1px 1px 1px);clip: rect(1px, 1px, 1px, 1px);height: 1px;margin: -1px;overflow: hidden;padding: 0;position: absolute;width: 1px;}#sk-container-id-4 div.sk-estimator {font-family: monospace;background-color: #f0f8ff;border: 1px dotted black;border-radius: 0.25em;box-sizing: border-box;margin-bottom: 0.5em;}#sk-container-id-4 div.sk-estimator:hover {background-color: #d4ebff;}#sk-container-id-4 div.sk-parallel-item::after {content: \"\";width: 100%;border-bottom: 1px solid gray;flex-grow: 1;}#sk-container-id-4 div.sk-label:hover label.sk-toggleable__label {background-color: #d4ebff;}#sk-container-id-4 div.sk-serial::before {content: \"\";position: absolute;border-left: 1px solid gray;box-sizing: border-box;top: 0;bottom: 0;left: 50%;z-index: 0;}#sk-container-id-4 div.sk-serial {display: flex;flex-direction: column;align-items: center;background-color: white;padding-right: 0.2em;padding-left: 0.2em;position: relative;}#sk-container-id-4 div.sk-item {position: relative;z-index: 1;}#sk-container-id-4 div.sk-parallel {display: flex;align-items: stretch;justify-content: center;background-color: white;position: relative;}#sk-container-id-4 div.sk-item::before, #sk-container-id-4 div.sk-parallel-item::before {content: \"\";position: absolute;border-left: 1px solid gray;box-sizing: border-box;top: 0;bottom: 0;left: 50%;z-index: -1;}#sk-container-id-4 div.sk-parallel-item {display: flex;flex-direction: column;z-index: 1;position: relative;background-color: white;}#sk-container-id-4 div.sk-parallel-item:first-child::after {align-self: flex-end;width: 50%;}#sk-container-id-4 div.sk-parallel-item:last-child::after {align-self: flex-start;width: 50%;}#sk-container-id-4 div.sk-parallel-item:only-child::after {width: 0;}#sk-container-id-4 div.sk-dashed-wrapped {border: 1px dashed gray;margin: 0 0.4em 0.5em 0.4em;box-sizing: border-box;padding-bottom: 0.4em;background-color: white;}#sk-container-id-4 div.sk-label label {font-family: monospace;font-weight: bold;display: inline-block;line-height: 1.2em;}#sk-container-id-4 div.sk-label-container {text-align: center;}#sk-container-id-4 div.sk-container {/* jupyter's `normalize.less` sets `[hidden] { display: none; }` but bootstrap.min.css set `[hidden] { display: none !important; }` so we also need the `!important` here to be able to override the default hidden behavior on the sphinx rendered scikit-learn.org. See: https://github.com/scikit-learn/scikit-learn/issues/21755 */display: inline-block !important;position: relative;}#sk-container-id-4 div.sk-text-repr-fallback {display: none;}</style><div id=\"sk-container-id-4\" class=\"sk-top-container\"><div class=\"sk-text-repr-fallback\"><pre>DecisionTreeClassifier()</pre><b>In a Jupyter environment, please rerun this cell to show the HTML representation or trust the notebook. <br />On GitHub, the HTML representation is unable to render, please try loading this page with nbviewer.org.</b></div><div class=\"sk-container\" hidden><div class=\"sk-item\"><div class=\"sk-estimator sk-toggleable\"><input class=\"sk-toggleable__control sk-hidden--visually\" id=\"sk-estimator-id-4\" type=\"checkbox\" checked><label for=\"sk-estimator-id-4\" class=\"sk-toggleable__label sk-toggleable__label-arrow\">DecisionTreeClassifier</label><div class=\"sk-toggleable__content\"><pre>DecisionTreeClassifier()</pre></div></div></div></div></div>"
            ]
          },
          "metadata": {},
          "execution_count": 65
        }
      ]
    },
    {
      "cell_type": "code",
      "source": [
        "from sklearn.tree import plot_tree"
      ],
      "metadata": {
        "id": "6y88-W5pteRs"
      },
      "execution_count": 66,
      "outputs": []
    },
    {
      "cell_type": "code",
      "source": [
        "plot_tree(clf1)"
      ],
      "metadata": {
        "colab": {
          "base_uri": "https://localhost:8080/",
          "height": 493
        },
        "id": "ug7sGvCqtpTx",
        "outputId": "8726bb76-63a6-4a63-8120-ce8d84fdb4a9"
      },
      "execution_count": 67,
      "outputs": [
        {
          "output_type": "execute_result",
          "data": {
            "text/plain": [
              "[Text(0.4, 0.8333333333333334, 'x[0] <= 0.538\\ngini = 0.48\\nsamples = 20\\nvalue = [8, 12]'),\n",
              " Text(0.2, 0.5, 'gini = 0.0\\nsamples = 11\\nvalue = [0, 11]'),\n",
              " Text(0.6, 0.5, 'x[2] <= 2.263\\ngini = 0.198\\nsamples = 9\\nvalue = [8, 1]'),\n",
              " Text(0.4, 0.16666666666666666, 'gini = 0.0\\nsamples = 8\\nvalue = [8, 0]'),\n",
              " Text(0.8, 0.16666666666666666, 'gini = 0.0\\nsamples = 1\\nvalue = [0, 1]')]"
            ]
          },
          "metadata": {},
          "execution_count": 67
        },
        {
          "output_type": "display_data",
          "data": {
            "text/plain": [
              "<Figure size 640x480 with 1 Axes>"
            ],
            "image/png": "[encoded data removed]"
          },
          "metadata": {}
        }
      ]
    },
    {
      "cell_type": "code",
      "source": [
        "plot_tree(clf2)"
      ],
      "metadata": {
        "colab": {
          "base_uri": "https://localhost:8080/",
          "height": 562
        },
        "id": "Aftd8wWttr1b",
        "outputId": "8641e568-3998-4506-d575-5aedacd47b90"
      },
      "execution_count": 68,
      "outputs": [
        {
          "output_type": "execute_result",
          "data": {
            "text/plain": [
              "[Text(0.375, 0.875, 'x[4] <= -0.816\\ngini = 0.5\\nsamples = 20\\nvalue = [10, 10]'),\n",
              " Text(0.25, 0.625, 'gini = 0.0\\nsamples = 6\\nvalue = [0, 6]'),\n",
              " Text(0.5, 0.625, 'x[3] <= 0.035\\ngini = 0.408\\nsamples = 14\\nvalue = [10, 4]'),\n",
              " Text(0.25, 0.375, 'x[4] <= 1.05\\ngini = 0.48\\nsamples = 5\\nvalue = [2, 3]'),\n",
              " Text(0.125, 0.125, 'gini = 0.0\\nsamples = 3\\nvalue = [0, 3]'),\n",
              " Text(0.375, 0.125, 'gini = 0.0\\nsamples = 2\\nvalue = [2, 0]'),\n",
              " Text(0.75, 0.375, 'x[1] <= -2.926\\ngini = 0.198\\nsamples = 9\\nvalue = [8, 1]'),\n",
              " Text(0.625, 0.125, 'gini = 0.0\\nsamples = 1\\nvalue = [0, 1]'),\n",
              " Text(0.875, 0.125, 'gini = 0.0\\nsamples = 8\\nvalue = [8, 0]')]"
            ]
          },
          "metadata": {},
          "execution_count": 68
        },
        {
          "output_type": "display_data",
          "data": {
            "text/plain": [
              "<Figure size 640x480 with 1 Axes>"
            ],
            "image/png": "[encoded data removed]"
          },
          "metadata": {}
        }
      ]
    },
    {
      "cell_type": "code",
      "source": [
        "plot_tree(clf3)"
      ],
      "metadata": {
        "colab": {
          "base_uri": "https://localhost:8080/",
          "height": 493
        },
        "id": "oxvqVegStwGE",
        "outputId": "0775b9c8-a4dd-4c68-d917-9b82d9782f41"
      },
      "execution_count": 69,
      "outputs": [
        {
          "output_type": "execute_result",
          "data": {
            "text/plain": [
              "[Text(0.6, 0.8333333333333334, 'x[2] <= 1.211\\ngini = 0.495\\nsamples = 20\\nvalue = [11, 9]'),\n",
              " Text(0.4, 0.5, 'x[4] <= 1.062\\ngini = 0.298\\nsamples = 11\\nvalue = [2, 9]'),\n",
              " Text(0.2, 0.16666666666666666, 'gini = 0.0\\nsamples = 9\\nvalue = [0, 9]'),\n",
              " Text(0.6, 0.16666666666666666, 'gini = 0.0\\nsamples = 2\\nvalue = [2, 0]'),\n",
              " Text(0.8, 0.5, 'gini = 0.0\\nsamples = 9\\nvalue = [9, 0]')]"
            ]
          },
          "metadata": {},
          "execution_count": 69
        },
        {
          "output_type": "display_data",
          "data": {
            "text/plain": [
              "<Figure size 640x480 with 1 Axes>"
            ],
            "image/png": "[encoded data removed]"
          },
          "metadata": {}
        }
      ]
    },
    {
      "cell_type": "code",
      "source": [
        "clf1.predict(np.array([0.280958,0.138438,-0.169310,0.986667,-0.193575]).reshape(1,5))"
      ],
      "metadata": {
        "colab": {
          "base_uri": "https://localhost:8080/"
        },
        "id": "buRYv3WjtzRZ",
        "outputId": "15be37e1-60bb-4afd-9d7e-a88d676e1b3d"
      },
      "execution_count": 70,
      "outputs": [
        {
          "output_type": "stream",
          "name": "stderr",
          "text": [
            "/usr/local/lib/python3.10/dist-packages/sklearn/base.py:439: UserWarning: X does not have valid feature names, but DecisionTreeClassifier was fitted with feature names\n",
            "  warnings.warn(\n"
          ]
        },
        {
          "output_type": "execute_result",
          "data": {
            "text/plain": [
              "array([1])"
            ]
          },
          "metadata": {},
          "execution_count": 70
        }
      ]
    },
    {
      "cell_type": "code",
      "source": [
        "clf2.predict(np.array([0.280958,0.138438,-0.169310,0.986667,-0.193575]).reshape(1,5))"
      ],
      "metadata": {
        "colab": {
          "base_uri": "https://localhost:8080/"
        },
        "id": "smdxQFBKx2Mj",
        "outputId": "261c3861-c333-418e-f60b-83af816e2d5d"
      },
      "execution_count": 71,
      "outputs": [
        {
          "output_type": "stream",
          "name": "stderr",
          "text": [
            "/usr/local/lib/python3.10/dist-packages/sklearn/base.py:439: UserWarning: X does not have valid feature names, but DecisionTreeClassifier was fitted with feature names\n",
            "  warnings.warn(\n"
          ]
        },
        {
          "output_type": "execute_result",
          "data": {
            "text/plain": [
              "array([0])"
            ]
          },
          "metadata": {},
          "execution_count": 71
        }
      ]
    },
    {
      "cell_type": "code",
      "source": [
        "clf3.predict(np.array([0.280958,0.138438,-0.169310,0.986667,-0.193575]).reshape(1,5))"
      ],
      "metadata": {
        "colab": {
          "base_uri": "https://localhost:8080/"
        },
        "id": "hU1jp9rjySpu",
        "outputId": "79d30ff9-e2ab-4524-b444-7b48500dff0b"
      },
      "execution_count": 72,
      "outputs": [
        {
          "output_type": "stream",
          "name": "stderr",
          "text": [
            "/usr/local/lib/python3.10/dist-packages/sklearn/base.py:439: UserWarning: X does not have valid feature names, but DecisionTreeClassifier was fitted with feature names\n",
            "  warnings.warn(\n"
          ]
        },
        {
          "output_type": "execute_result",
          "data": {
            "text/plain": [
              "array([1])"
            ]
          },
          "metadata": {},
          "execution_count": 72
        }
      ]
    },
    {
      "cell_type": "code",
      "source": [],
      "metadata": {
        "id": "DiFyk5XDyU9z"
      },
      "execution_count": null,
      "outputs": []
    },
    {
      "cell_type": "code",
      "source": [
        "df1 = sample_features(df, 0.8)"
      ],
      "metadata": {
        "colab": {
          "base_uri": "https://localhost:8080/"
        },
        "id": "Y_7majPuzM8-",
        "outputId": "0002783e-4c81-47c5-8da8-f613a111efd4"
      },
      "execution_count": 86,
      "outputs": [
        {
          "output_type": "stream",
          "name": "stderr",
          "text": [
            "<ipython-input-85-33193cca5e8d>:5: SettingWithCopyWarning: \n",
            "A value is trying to be set on a copy of a slice from a DataFrame.\n",
            "Try using .loc[row_indexer,col_indexer] = value instead\n",
            "\n",
            "See the caveats in the documentation: https://pandas.pydata.org/pandas-docs/stable/user_guide/indexing.html#returning-a-view-versus-a-copy\n",
            "  new_df[\"target\"] = df[\"target\"]\n"
          ]
        }
      ]
    },
    {
      "cell_type": "code",
      "source": [
        "df2 = sample_features(df, 0.8)"
      ],
      "metadata": {
        "colab": {
          "base_uri": "https://localhost:8080/"
        },
        "id": "ZyWKVh7YzcDH",
        "outputId": "84372e87-773f-47c0-ddc8-39746636c14d"
      },
      "execution_count": 87,
      "outputs": [
        {
          "output_type": "stream",
          "name": "stderr",
          "text": [
            "<ipython-input-85-33193cca5e8d>:5: SettingWithCopyWarning: \n",
            "A value is trying to be set on a copy of a slice from a DataFrame.\n",
            "Try using .loc[row_indexer,col_indexer] = value instead\n",
            "\n",
            "See the caveats in the documentation: https://pandas.pydata.org/pandas-docs/stable/user_guide/indexing.html#returning-a-view-versus-a-copy\n",
            "  new_df[\"target\"] = df[\"target\"]\n"
          ]
        }
      ]
    },
    {
      "cell_type": "code",
      "source": [
        "df3 = sample_features(df, 0.8)"
      ],
      "metadata": {
        "colab": {
          "base_uri": "https://localhost:8080/"
        },
        "id": "qxU-T5pgzybw",
        "outputId": "57127fc4-c67e-4483-8436-253143dda642"
      },
      "execution_count": 88,
      "outputs": [
        {
          "output_type": "stream",
          "name": "stderr",
          "text": [
            "<ipython-input-85-33193cca5e8d>:5: SettingWithCopyWarning: \n",
            "A value is trying to be set on a copy of a slice from a DataFrame.\n",
            "Try using .loc[row_indexer,col_indexer] = value instead\n",
            "\n",
            "See the caveats in the documentation: https://pandas.pydata.org/pandas-docs/stable/user_guide/indexing.html#returning-a-view-versus-a-copy\n",
            "  new_df[\"target\"] = df[\"target\"]\n"
          ]
        }
      ]
    },
    {
      "cell_type": "code",
      "source": [
        "df3"
      ],
      "metadata": {
        "colab": {
          "base_uri": "https://localhost:8080/",
          "height": 424
        },
        "id": "KHVyYxLZ00cS",
        "outputId": "c370a8d2-02d7-4439-d25d-708284b71f34"
      },
      "execution_count": 90,
      "outputs": [
        {
          "output_type": "execute_result",
          "data": {
            "text/plain": [
              "        col4      col5      col2      col1  target\n",
              "0  -1.047075 -1.253992  0.210839 -1.963525       1\n",
              "1  -1.616319  0.275404 -1.321185 -2.440081       1\n",
              "2   1.599039 -0.297686  0.003179 -2.377348       0\n",
              "3  -1.514738  1.957791  0.230523  0.496596       0\n",
              "4   0.165703 -3.645530 -0.295711  1.380346       1\n",
              "..       ...       ...       ...       ...     ...\n",
              "95 -1.254777 -0.775777  1.523105 -1.160171       1\n",
              "96 -0.641910 -0.724774 -0.587294  0.338666       0\n",
              "97  0.113613 -2.826123 -2.463673  1.437914       0\n",
              "98 -0.253526 -3.224605  1.057743  1.481481       1\n",
              "99 -0.029706 -0.588714 -2.541349  1.276161       0\n",
              "\n",
              "[100 rows x 5 columns]"
            ],
            "text/html": [
              "\n",
              "  <div id=\"df-70fbde9f-98c2-4896-808b-d707448424be\" class=\"colab-df-container\">\n",
              "    <div>\n",
              "<style scoped>\n",
              "    .dataframe tbody tr th:only-of-type {\n",
              "        vertical-align: middle;\n",
              "    }\n",
              "\n",
              "    .dataframe tbody tr th {\n",
              "        vertical-align: top;\n",
              "    }\n",
              "\n",
              "    .dataframe thead th {\n",
              "        text-align: right;\n",
              "    }\n",
              "</style>\n",
              "<table border=\"1\" class=\"dataframe\">\n",
              "  <thead>\n",
              "    <tr style=\"text-align: right;\">\n",
              "      <th></th>\n",
              "      <th>col4</th>\n",
              "      <th>col5</th>\n",
              "      <th>col2</th>\n",
              "      <th>col1</th>\n",
              "      <th>target</th>\n",
              "    </tr>\n",
              "  </thead>\n",
              "  <tbody>\n",
              "    <tr>\n",
              "      <th>0</th>\n",
              "      <td>-1.047075</td>\n",
              "      <td>-1.253992</td>\n",
              "      <td>0.210839</td>\n",
              "      <td>-1.963525</td>\n",
              "      <td>1</td>\n",
              "    </tr>\n",
              "    <tr>\n",
              "      <th>1</th>\n",
              "      <td>-1.616319</td>\n",
              "      <td>0.275404</td>\n",
              "      <td>-1.321185</td>\n",
              "      <td>-2.440081</td>\n",
              "      <td>1</td>\n",
              "    </tr>\n",
              "    <tr>\n",
              "      <th>2</th>\n",
              "      <td>1.599039</td>\n",
              "      <td>-0.297686</td>\n",
              "      <td>0.003179</td>\n",
              "      <td>-2.377348</td>\n",
              "      <td>0</td>\n",
              "    </tr>\n",
              "    <tr>\n",
              "      <th>3</th>\n",
              "      <td>-1.514738</td>\n",
              "      <td>1.957791</td>\n",
              "      <td>0.230523</td>\n",
              "      <td>0.496596</td>\n",
              "      <td>0</td>\n",
              "    </tr>\n",
              "    <tr>\n",
              "      <th>4</th>\n",
              "      <td>0.165703</td>\n",
              "      <td>-3.645530</td>\n",
              "      <td>-0.295711</td>\n",
              "      <td>1.380346</td>\n",
              "      <td>1</td>\n",
              "    </tr>\n",
              "    <tr>\n",
              "      <th>...</th>\n",
              "      <td>...</td>\n",
              "      <td>...</td>\n",
              "      <td>...</td>\n",
              "      <td>...</td>\n",
              "      <td>...</td>\n",
              "    </tr>\n",
              "    <tr>\n",
              "      <th>95</th>\n",
              "      <td>-1.254777</td>\n",
              "      <td>-0.775777</td>\n",
              "      <td>1.523105</td>\n",
              "      <td>-1.160171</td>\n",
              "      <td>1</td>\n",
              "    </tr>\n",
              "    <tr>\n",
              "      <th>96</th>\n",
              "      <td>-0.641910</td>\n",
              "      <td>-0.724774</td>\n",
              "      <td>-0.587294</td>\n",
              "      <td>0.338666</td>\n",
              "      <td>0</td>\n",
              "    </tr>\n",
              "    <tr>\n",
              "      <th>97</th>\n",
              "      <td>0.113613</td>\n",
              "      <td>-2.826123</td>\n",
              "      <td>-2.463673</td>\n",
              "      <td>1.437914</td>\n",
              "      <td>0</td>\n",
              "    </tr>\n",
              "    <tr>\n",
              "      <th>98</th>\n",
              "      <td>-0.253526</td>\n",
              "      <td>-3.224605</td>\n",
              "      <td>1.057743</td>\n",
              "      <td>1.481481</td>\n",
              "      <td>1</td>\n",
              "    </tr>\n",
              "    <tr>\n",
              "      <th>99</th>\n",
              "      <td>-0.029706</td>\n",
              "      <td>-0.588714</td>\n",
              "      <td>-2.541349</td>\n",
              "      <td>1.276161</td>\n",
              "      <td>0</td>\n",
              "    </tr>\n",
              "  </tbody>\n",
              "</table>\n",
              "<p>100 rows × 5 columns</p>\n",
              "</div>\n",
              "    <div class=\"colab-df-buttons\">\n",
              "\n",
              "  <div class=\"colab-df-container\">\n",
              "    <button class=\"colab-df-convert\" onclick=\"convertToInteractive('df-70fbde9f-98c2-4896-808b-d707448424be')\"\n",
              "            title=\"Convert this dataframe to an interactive table.\"\n",
              "            style=\"display:none;\">\n",
              "\n",
              "  <svg xmlns=\"http://www.w3.org/2000/svg\" height=\"24px\" viewBox=\"0 -960 960 960\">\n",
              "    <path d=\"M120-120v-720h720v720H120Zm60-500h600v-160H180v160Zm220 220h160v-160H400v160Zm0 220h160v-160H400v160ZM180-400h160v-160H180v160Zm440 0h160v-160H620v160ZM180-180h160v-160H180v160Zm440 0h160v-160H620v160Z\"/>\n",
              "  </svg>\n",
              "    </button>\n",
              "\n",
              "  <style>\n",
              "    .colab-df-container {\n",
              "      display:flex;\n",
              "      gap: 12px;\n",
              "    }\n",
              "\n",
              "    .colab-df-convert {\n",
              "      background-color: #E8F0FE;\n",
              "      border: none;\n",
              "      border-radius: 50%;\n",
              "      cursor: pointer;\n",
              "      display: none;\n",
              "      fill: #1967D2;\n",
              "      height: 32px;\n",
              "      padding: 0 0 0 0;\n",
              "      width: 32px;\n",
              "    }\n",
              "\n",
              "    .colab-df-convert:hover {\n",
              "      background-color: #E2EBFA;\n",
              "      box-shadow: 0px 1px 2px rgba(60, 64, 67, 0.3), 0px 1px 3px 1px rgba(60, 64, 67, 0.15);\n",
              "      fill: #174EA6;\n",
              "    }\n",
              "\n",
              "    .colab-df-buttons div {\n",
              "      margin-bottom: 4px;\n",
              "    }\n",
              "\n",
              "    [theme=dark] .colab-df-convert {\n",
              "      background-color: #3B4455;\n",
              "      fill: #D2E3FC;\n",
              "    }\n",
              "\n",
              "    [theme=dark] .colab-df-convert:hover {\n",
              "      background-color: #434B5C;\n",
              "      box-shadow: 0px 1px 3px 1px rgba(0, 0, 0, 0.15);\n",
              "      filter: drop-shadow(0px 1px 2px rgba(0, 0, 0, 0.3));\n",
              "      fill: #FFFFFF;\n",
              "    }\n",
              "  </style>\n",
              "\n",
              "    <script>\n",
              "      const buttonEl =\n",
              "        document.querySelector('#df-70fbde9f-98c2-4896-808b-d707448424be button.colab-df-convert');\n",
              "      buttonEl.style.display =\n",
              "        google.colab.kernel.accessAllowed ? 'block' : 'none';\n",
              "\n",
              "      async function convertToInteractive(key) {\n",
              "        const element = document.querySelector('#df-70fbde9f-98c2-4896-808b-d707448424be');\n",
              "        const dataTable =\n",
              "          await google.colab.kernel.invokeFunction('convertToInteractive',\n",
              "                                                    [key], {});\n",
              "        if (!dataTable) return;\n",
              "\n",
              "        const docLinkHtml = 'Like what you see? Visit the ' +\n",
              "          '<a target=\"_blank\" href=https://colab.research.google.com/notebooks/data_table.ipynb>data table notebook</a>'\n",
              "          + ' to learn more about interactive tables.';\n",
              "        element.innerHTML = '';\n",
              "        dataTable['output_type'] = 'display_data';\n",
              "        await google.colab.output.renderOutput(dataTable, element);\n",
              "        const docLink = document.createElement('div');\n",
              "        docLink.innerHTML = docLinkHtml;\n",
              "        element.appendChild(docLink);\n",
              "      }\n",
              "    </script>\n",
              "  </div>\n",
              "\n",
              "\n",
              "<div id=\"df-918fb442-dba2-4a07-8e56-4d0604d383fa\">\n",
              "  <button class=\"colab-df-quickchart\" onclick=\"quickchart('df-918fb442-dba2-4a07-8e56-4d0604d383fa')\"\n",
              "            title=\"Suggest charts\"\n",
              "            style=\"display:none;\">\n",
              "\n",
              "<svg xmlns=\"http://www.w3.org/2000/svg\" height=\"24px\"viewBox=\"0 0 24 24\"\n",
              "     width=\"24px\">\n",
              "    <g>\n",
              "        <path d=\"M19 3H5c-1.1 0-2 .9-2 2v14c0 1.1.9 2 2 2h14c1.1 0 2-.9 2-2V5c0-1.1-.9-2-2-2zM9 17H7v-7h2v7zm4 0h-2V7h2v10zm4 0h-2v-4h2v4z\"/>\n",
              "    </g>\n",
              "</svg>\n",
              "  </button>\n",
              "\n",
              "<style>\n",
              "  .colab-df-quickchart {\n",
              "      --bg-color: #E8F0FE;\n",
              "      --fill-color: #1967D2;\n",
              "      --hover-bg-color: #E2EBFA;\n",
              "      --hover-fill-color: #174EA6;\n",
              "      --disabled-fill-color: #AAA;\n",
              "      --disabled-bg-color: #DDD;\n",
              "  }\n",
              "\n",
              "  [theme=dark] .colab-df-quickchart {\n",
              "      --bg-color: #3B4455;\n",
              "      --fill-color: #D2E3FC;\n",
              "      --hover-bg-color: #434B5C;\n",
              "      --hover-fill-color: #FFFFFF;\n",
              "      --disabled-bg-color: #3B4455;\n",
              "      --disabled-fill-color: #666;\n",
              "  }\n",
              "\n",
              "  .colab-df-quickchart {\n",
              "    background-color: var(--bg-color);\n",
              "    border: none;\n",
              "    border-radius: 50%;\n",
              "    cursor: pointer;\n",
              "    display: none;\n",
              "    fill: var(--fill-color);\n",
              "    height: 32px;\n",
              "    padding: 0;\n",
              "    width: 32px;\n",
              "  }\n",
              "\n",
              "  .colab-df-quickchart:hover {\n",
              "    background-color: var(--hover-bg-color);\n",
              "    box-shadow: 0 1px 2px rgba(60, 64, 67, 0.3), 0 1px 3px 1px rgba(60, 64, 67, 0.15);\n",
              "    fill: var(--button-hover-fill-color);\n",
              "  }\n",
              "\n",
              "  .colab-df-quickchart-complete:disabled,\n",
              "  .colab-df-quickchart-complete:disabled:hover {\n",
              "    background-color: var(--disabled-bg-color);\n",
              "    fill: var(--disabled-fill-color);\n",
              "    box-shadow: none;\n",
              "  }\n",
              "\n",
              "  .colab-df-spinner {\n",
              "    border: 2px solid var(--fill-color);\n",
              "    border-color: transparent;\n",
              "    border-bottom-color: var(--fill-color);\n",
              "    animation:\n",
              "      spin 1s steps(1) infinite;\n",
              "  }\n",
              "\n",
              "  @keyframes spin {\n",
              "    0% {\n",
              "      border-color: transparent;\n",
              "      border-bottom-color: var(--fill-color);\n",
              "      border-left-color: var(--fill-color);\n",
              "    }\n",
              "    20% {\n",
              "      border-color: transparent;\n",
              "      border-left-color: var(--fill-color);\n",
              "      border-top-color: var(--fill-color);\n",
              "    }\n",
              "    30% {\n",
              "      border-color: transparent;\n",
              "      border-left-color: var(--fill-color);\n",
              "      border-top-color: var(--fill-color);\n",
              "      border-right-color: var(--fill-color);\n",
              "    }\n",
              "    40% {\n",
              "      border-color: transparent;\n",
              "      border-right-color: var(--fill-color);\n",
              "      border-top-color: var(--fill-color);\n",
              "    }\n",
              "    60% {\n",
              "      border-color: transparent;\n",
              "      border-right-color: var(--fill-color);\n",
              "    }\n",
              "    80% {\n",
              "      border-color: transparent;\n",
              "      border-right-color: var(--fill-color);\n",
              "      border-bottom-color: var(--fill-color);\n",
              "    }\n",
              "    90% {\n",
              "      border-color: transparent;\n",
              "      border-bottom-color: var(--fill-color);\n",
              "    }\n",
              "  }\n",
              "</style>\n",
              "\n",
              "  <script>\n",
              "    async function quickchart(key) {\n",
              "      const quickchartButtonEl =\n",
              "        document.querySelector('#' + key + ' button');\n",
              "      quickchartButtonEl.disabled = true;  // To prevent multiple clicks.\n",
              "      quickchartButtonEl.classList.add('colab-df-spinner');\n",
              "      try {\n",
              "        const charts = await google.colab.kernel.invokeFunction(\n",
              "            'suggestCharts', [key], {});\n",
              "      } catch (error) {\n",
              "        console.error('Error during call to suggestCharts:', error);\n",
              "      }\n",
              "      quickchartButtonEl.classList.remove('colab-df-spinner');\n",
              "      quickchartButtonEl.classList.add('colab-df-quickchart-complete');\n",
              "    }\n",
              "    (() => {\n",
              "      let quickchartButtonEl =\n",
              "        document.querySelector('#df-918fb442-dba2-4a07-8e56-4d0604d383fa button');\n",
              "      quickchartButtonEl.style.display =\n",
              "        google.colab.kernel.accessAllowed ? 'block' : 'none';\n",
              "    })();\n",
              "  </script>\n",
              "</div>\n",
              "\n",
              "  <div id=\"id_7cd156f2-9505-440f-9100-e8f9fe8d1cff\">\n",
              "    <style>\n",
              "      .colab-df-generate {\n",
              "        background-color: #E8F0FE;\n",
              "        border: none;\n",
              "        border-radius: 50%;\n",
              "        cursor: pointer;\n",
              "        display: none;\n",
              "        fill: #1967D2;\n",
              "        height: 32px;\n",
              "        padding: 0 0 0 0;\n",
              "        width: 32px;\n",
              "      }\n",
              "\n",
              "      .colab-df-generate:hover {\n",
              "        background-color: #E2EBFA;\n",
              "        box-shadow: 0px 1px 2px rgba(60, 64, 67, 0.3), 0px 1px 3px 1px rgba(60, 64, 67, 0.15);\n",
              "        fill: #174EA6;\n",
              "      }\n",
              "\n",
              "      [theme=dark] .colab-df-generate {\n",
              "        background-color: #3B4455;\n",
              "        fill: #D2E3FC;\n",
              "      }\n",
              "\n",
              "      [theme=dark] .colab-df-generate:hover {\n",
              "        background-color: #434B5C;\n",
              "        box-shadow: 0px 1px 3px 1px rgba(0, 0, 0, 0.15);\n",
              "        filter: drop-shadow(0px 1px 2px rgba(0, 0, 0, 0.3));\n",
              "        fill: #FFFFFF;\n",
              "      }\n",
              "    </style>\n",
              "    <button class=\"colab-df-generate\" onclick=\"generateWithVariable('df3')\"\n",
              "            title=\"Generate code using this dataframe.\"\n",
              "            style=\"display:none;\">\n",
              "\n",
              "  <svg xmlns=\"http://www.w3.org/2000/svg\" height=\"24px\"viewBox=\"0 0 24 24\"\n",
              "       width=\"24px\">\n",
              "    <path d=\"M7,19H8.4L18.45,9,17,7.55,7,17.6ZM5,21V16.75L18.45,3.32a2,2,0,0,1,2.83,0l1.4,1.43a1.91,1.91,0,0,1,.58,1.4,1.91,1.91,0,0,1-.58,1.4L9.25,21ZM18.45,9,17,7.55Zm-12,3A5.31,5.31,0,0,0,4.9,8.1,5.31,5.31,0,0,0,1,6.5,5.31,5.31,0,0,0,4.9,4.9,5.31,5.31,0,0,0,6.5,1,5.31,5.31,0,0,0,8.1,4.9,5.31,5.31,0,0,0,12,6.5,5.46,5.46,0,0,0,6.5,12Z\"/>\n",
              "  </svg>\n",
              "    </button>\n",
              "    <script>\n",
              "      (() => {\n",
              "      const buttonEl =\n",
              "        document.querySelector('#id_7cd156f2-9505-440f-9100-e8f9fe8d1cff button.colab-df-generate');\n",
              "      buttonEl.style.display =\n",
              "        google.colab.kernel.accessAllowed ? 'block' : 'none';\n",
              "\n",
              "      buttonEl.onclick = () => {\n",
              "        google.colab.notebook.generateWithVariable('df3');\n",
              "      }\n",
              "      })();\n",
              "    </script>\n",
              "  </div>\n",
              "\n",
              "    </div>\n",
              "  </div>\n"
            ],
            "application/vnd.google.colaboratory.intrinsic+json": {
              "type": "dataframe",
              "variable_name": "df3",
              "summary": "{\n  \"name\": \"df3\",\n  \"rows\": 100,\n  \"fields\": [\n    {\n      \"column\": \"col4\",\n      \"properties\": {\n        \"dtype\": \"number\",\n        \"std\": 1.4752334823913316,\n        \"min\": -3.518543059058528,\n        \"max\": 3.39052472689646,\n        \"num_unique_values\": 100,\n        \"samples\": [\n          -1.4482883848791872,\n          1.0164961136366915,\n          -0.9661177143333302\n        ],\n        \"semantic_type\": \"\",\n        \"description\": \"\"\n      }\n    },\n    {\n      \"column\": \"col5\",\n      \"properties\": {\n        \"dtype\": \"number\",\n        \"std\": 1.2900351704580932,\n        \"min\": -4.451881806559923,\n        \"max\": 2.282758013099294,\n        \"num_unique_values\": 100,\n        \"samples\": [\n          0.29626070044312347,\n          -2.0956214901360735,\n          -0.20485543069135426\n        ],\n        \"semantic_type\": \"\",\n        \"description\": \"\"\n      }\n    },\n    {\n      \"column\": \"col2\",\n      \"properties\": {\n        \"dtype\": \"number\",\n        \"std\": 1.6539022853992453,\n        \"min\": -4.199912924428947,\n        \"max\": 4.572940005675181,\n        \"num_unique_values\": 100,\n        \"samples\": [\n          0.36673457871249304,\n          -1.8064055544525293,\n          1.7545103103731514\n        ],\n        \"semantic_type\": \"\",\n        \"description\": \"\"\n      }\n    },\n    {\n      \"column\": \"col1\",\n      \"properties\": {\n        \"dtype\": \"number\",\n        \"std\": 1.3296039208935193,\n        \"min\": -3.9780263774053837,\n        \"max\": 2.369331544630418,\n        \"num_unique_values\": 100,\n        \"samples\": [\n          -2.6553941750182615,\n          -0.0053556685859957875,\n          -2.1242258898534887\n        ],\n        \"semantic_type\": \"\",\n        \"description\": \"\"\n      }\n    },\n    {\n      \"column\": \"target\",\n      \"properties\": {\n        \"dtype\": \"number\",\n        \"std\": 0,\n        \"min\": 0,\n        \"max\": 1,\n        \"num_unique_values\": 2,\n        \"samples\": [\n          0,\n          1\n        ],\n        \"semantic_type\": \"\",\n        \"description\": \"\"\n      }\n    }\n  ]\n}"
            }
          },
          "metadata": {},
          "execution_count": 90
        }
      ]
    },
    {
      "cell_type": "code",
      "source": [
        "from sklearn.tree import DecisionTreeClassifier\n",
        "\n",
        "clf1 = DecisionTreeClassifier()\n",
        "clf2 = DecisionTreeClassifier()\n",
        "clf3 = DecisionTreeClassifier()"
      ],
      "metadata": {
        "id": "-mxZfzIoz1XZ"
      },
      "execution_count": 91,
      "outputs": []
    },
    {
      "cell_type": "code",
      "source": [
        "clf1.fit(df1.iloc[:,0:4], df1.iloc[:,-1])\n",
        "clf2.fit(df2.iloc[:,0:4], df2.iloc[:,-1])\n",
        "clf3.fit(df3.iloc[:,0:4], df3.iloc[:,-1])"
      ],
      "metadata": {
        "colab": {
          "base_uri": "https://localhost:8080/",
          "height": 75
        },
        "id": "71rRAhtAz9da",
        "outputId": "54a45df5-4079-43cb-9849-c27adbb8fac1"
      },
      "execution_count": 92,
      "outputs": [
        {
          "output_type": "execute_result",
          "data": {
            "text/plain": [
              "DecisionTreeClassifier()"
            ],
            "text/html": [
              "<style>#sk-container-id-5 {color: black;background-color: white;}#sk-container-id-5 pre{padding: 0;}#sk-container-id-5 div.sk-toggleable {background-color: white;}#sk-container-id-5 label.sk-toggleable__label {cursor: pointer;display: block;width: 100%;margin-bottom: 0;padding: 0.3em;box-sizing: border-box;text-align: center;}#sk-container-id-5 label.sk-toggleable__label-arrow:before {content: \"▸\";float: left;margin-right: 0.25em;color: #696969;}#sk-container-id-5 label.sk-toggleable__label-arrow:hover:before {color: black;}#sk-container-id-5 div.sk-estimator:hover label.sk-toggleable__label-arrow:before {color: black;}#sk-container-id-5 div.sk-toggleable__content {max-height: 0;max-width: 0;overflow: hidden;text-align: left;background-color: #f0f8ff;}#sk-container-id-5 div.sk-toggleable__content pre {margin: 0.2em;color: black;border-radius: 0.25em;background-color: #f0f8ff;}#sk-container-id-5 input.sk-toggleable__control:checked~div.sk-toggleable__content {max-height: 200px;max-width: 100%;overflow: auto;}#sk-container-id-5 input.sk-toggleable__control:checked~label.sk-toggleable__label-arrow:before {content: \"▾\";}#sk-container-id-5 div.sk-estimator input.sk-toggleable__control:checked~label.sk-toggleable__label {background-color: #d4ebff;}#sk-container-id-5 div.sk-label input.sk-toggleable__control:checked~label.sk-toggleable__label {background-color: #d4ebff;}#sk-container-id-5 input.sk-hidden--visually {border: 0;clip: rect(1px 1px 1px 1px);clip: rect(1px, 1px, 1px, 1px);height: 1px;margin: -1px;overflow: hidden;padding: 0;position: absolute;width: 1px;}#sk-container-id-5 div.sk-estimator {font-family: monospace;background-color: #f0f8ff;border: 1px dotted black;border-radius: 0.25em;box-sizing: border-box;margin-bottom: 0.5em;}#sk-container-id-5 div.sk-estimator:hover {background-color: #d4ebff;}#sk-container-id-5 div.sk-parallel-item::after {content: \"\";width: 100%;border-bottom: 1px solid gray;flex-grow: 1;}#sk-container-id-5 div.sk-label:hover label.sk-toggleable__label {background-color: #d4ebff;}#sk-container-id-5 div.sk-serial::before {content: \"\";position: absolute;border-left: 1px solid gray;box-sizing: border-box;top: 0;bottom: 0;left: 50%;z-index: 0;}#sk-container-id-5 div.sk-serial {display: flex;flex-direction: column;align-items: center;background-color: white;padding-right: 0.2em;padding-left: 0.2em;position: relative;}#sk-container-id-5 div.sk-item {position: relative;z-index: 1;}#sk-container-id-5 div.sk-parallel {display: flex;align-items: stretch;justify-content: center;background-color: white;position: relative;}#sk-container-id-5 div.sk-item::before, #sk-container-id-5 div.sk-parallel-item::before {content: \"\";position: absolute;border-left: 1px solid gray;box-sizing: border-box;top: 0;bottom: 0;left: 50%;z-index: -1;}#sk-container-id-5 div.sk-parallel-item {display: flex;flex-direction: column;z-index: 1;position: relative;background-color: white;}#sk-container-id-5 div.sk-parallel-item:first-child::after {align-self: flex-end;width: 50%;}#sk-container-id-5 div.sk-parallel-item:last-child::after {align-self: flex-start;width: 50%;}#sk-container-id-5 div.sk-parallel-item:only-child::after {width: 0;}#sk-container-id-5 div.sk-dashed-wrapped {border: 1px dashed gray;margin: 0 0.4em 0.5em 0.4em;box-sizing: border-box;padding-bottom: 0.4em;background-color: white;}#sk-container-id-5 div.sk-label label {font-family: monospace;font-weight: bold;display: inline-block;line-height: 1.2em;}#sk-container-id-5 div.sk-label-container {text-align: center;}#sk-container-id-5 div.sk-container {/* jupyter's `normalize.less` sets `[hidden] { display: none; }` but bootstrap.min.css set `[hidden] { display: none !important; }` so we also need the `!important` here to be able to override the default hidden behavior on the sphinx rendered scikit-learn.org. See: https://github.com/scikit-learn/scikit-learn/issues/21755 */display: inline-block !important;position: relative;}#sk-container-id-5 div.sk-text-repr-fallback {display: none;}</style><div id=\"sk-container-id-5\" class=\"sk-top-container\"><div class=\"sk-text-repr-fallback\"><pre>DecisionTreeClassifier()</pre><b>In a Jupyter environment, please rerun this cell to show the HTML representation or trust the notebook. <br />On GitHub, the HTML representation is unable to render, please try loading this page with nbviewer.org.</b></div><div class=\"sk-container\" hidden><div class=\"sk-item\"><div class=\"sk-estimator sk-toggleable\"><input class=\"sk-toggleable__control sk-hidden--visually\" id=\"sk-estimator-id-5\" type=\"checkbox\" checked><label for=\"sk-estimator-id-5\" class=\"sk-toggleable__label sk-toggleable__label-arrow\">DecisionTreeClassifier</label><div class=\"sk-toggleable__content\"><pre>DecisionTreeClassifier()</pre></div></div></div></div></div>"
            ]
          },
          "metadata": {},
          "execution_count": 92
        }
      ]
    },
    {
      "cell_type": "code",
      "source": [
        "plot_tree(clf1)"
      ],
      "metadata": {
        "colab": {
          "base_uri": "https://localhost:8080/",
          "height": 979
        },
        "id": "dyf5n3OW0-34",
        "outputId": "5e473f02-7ee9-42c0-f2e1-18ab75670027"
      },
      "execution_count": 93,
      "outputs": [
        {
          "output_type": "execute_result",
          "data": {
            "text/plain": [
              "[Text(0.5657894736842105, 0.9375, 'x[2] <= -0.225\\ngini = 0.5\\nsamples = 100\\nvalue = [51, 49]'),\n",
              " Text(0.34210526315789475, 0.8125, 'x[1] <= 0.22\\ngini = 0.256\\nsamples = 53\\nvalue = [8, 45]'),\n",
              " Text(0.21052631578947367, 0.6875, 'x[1] <= -2.811\\ngini = 0.136\\nsamples = 41\\nvalue = [3, 38]'),\n",
              " Text(0.10526315789473684, 0.5625, 'x[3] <= 0.305\\ngini = 0.5\\nsamples = 2\\nvalue = [1, 1]'),\n",
              " Text(0.05263157894736842, 0.4375, 'gini = 0.0\\nsamples = 1\\nvalue = [0, 1]'),\n",
              " Text(0.15789473684210525, 0.4375, 'gini = 0.0\\nsamples = 1\\nvalue = [1, 0]'),\n",
              " Text(0.3157894736842105, 0.5625, 'x[2] <= -0.785\\ngini = 0.097\\nsamples = 39\\nvalue = [2, 37]'),\n",
              " Text(0.2631578947368421, 0.4375, 'gini = 0.0\\nsamples = 30\\nvalue = [0, 30]'),\n",
              " Text(0.3684210526315789, 0.4375, 'x[0] <= 0.362\\ngini = 0.346\\nsamples = 9\\nvalue = [2, 7]'),\n",
              " Text(0.3157894736842105, 0.3125, 'x[1] <= -1.458\\ngini = 0.219\\nsamples = 8\\nvalue = [1, 7]'),\n",
              " Text(0.2631578947368421, 0.1875, 'x[2] <= -0.463\\ngini = 0.444\\nsamples = 3\\nvalue = [1, 2]'),\n",
              " Text(0.21052631578947367, 0.0625, 'gini = 0.0\\nsamples = 2\\nvalue = [0, 2]'),\n",
              " Text(0.3157894736842105, 0.0625, 'gini = 0.0\\nsamples = 1\\nvalue = [1, 0]'),\n",
              " Text(0.3684210526315789, 0.1875, 'gini = 0.0\\nsamples = 5\\nvalue = [0, 5]'),\n",
              " Text(0.42105263157894735, 0.3125, 'gini = 0.0\\nsamples = 1\\nvalue = [1, 0]'),\n",
              " Text(0.47368421052631576, 0.6875, 'x[0] <= -1.296\\ngini = 0.486\\nsamples = 12\\nvalue = [5, 7]'),\n",
              " Text(0.42105263157894735, 0.5625, 'gini = 0.0\\nsamples = 5\\nvalue = [0, 5]'),\n",
              " Text(0.5263157894736842, 0.5625, 'x[2] <= -0.581\\ngini = 0.408\\nsamples = 7\\nvalue = [5, 2]'),\n",
              " Text(0.47368421052631576, 0.4375, 'gini = 0.0\\nsamples = 4\\nvalue = [4, 0]'),\n",
              " Text(0.5789473684210527, 0.4375, 'x[0] <= -0.927\\ngini = 0.444\\nsamples = 3\\nvalue = [1, 2]'),\n",
              " Text(0.5263157894736842, 0.3125, 'gini = 0.0\\nsamples = 1\\nvalue = [1, 0]'),\n",
              " Text(0.631578947368421, 0.3125, 'gini = 0.0\\nsamples = 2\\nvalue = [0, 2]'),\n",
              " Text(0.7894736842105263, 0.8125, 'x[0] <= -3.545\\ngini = 0.156\\nsamples = 47\\nvalue = [43, 4]'),\n",
              " Text(0.6842105263157895, 0.6875, 'x[3] <= -0.834\\ngini = 0.444\\nsamples = 3\\nvalue = [1, 2]'),\n",
              " Text(0.631578947368421, 0.5625, 'gini = 0.0\\nsamples = 1\\nvalue = [1, 0]'),\n",
              " Text(0.7368421052631579, 0.5625, 'gini = 0.0\\nsamples = 2\\nvalue = [0, 2]'),\n",
              " Text(0.8947368421052632, 0.6875, 'x[2] <= 0.186\\ngini = 0.087\\nsamples = 44\\nvalue = [42, 2]'),\n",
              " Text(0.8421052631578947, 0.5625, 'x[3] <= -0.277\\ngini = 0.408\\nsamples = 7\\nvalue = [5, 2]'),\n",
              " Text(0.7894736842105263, 0.4375, 'gini = 0.0\\nsamples = 4\\nvalue = [4, 0]'),\n",
              " Text(0.8947368421052632, 0.4375, 'x[3] <= 0.842\\ngini = 0.444\\nsamples = 3\\nvalue = [1, 2]'),\n",
              " Text(0.8421052631578947, 0.3125, 'gini = 0.0\\nsamples = 2\\nvalue = [0, 2]'),\n",
              " Text(0.9473684210526315, 0.3125, 'gini = 0.0\\nsamples = 1\\nvalue = [1, 0]'),\n",
              " Text(0.9473684210526315, 0.5625, 'gini = 0.0\\nsamples = 37\\nvalue = [37, 0]')]"
            ]
          },
          "metadata": {},
          "execution_count": 93
        },
        {
          "output_type": "display_data",
          "data": {
            "text/plain": [
              "<Figure size 640x480 with 1 Axes>"
            ],
            "image/png": "[encoded data removed]"
          },
          "metadata": {}
        }
      ]
    },
    {
      "cell_type": "code",
      "source": [
        "plot_tree(clf2)"
      ],
      "metadata": {
        "colab": {
          "base_uri": "https://localhost:8080/",
          "height": 944
        },
        "id": "PCCUm5Ex1CjL",
        "outputId": "acdf4b2e-47a9-4fe2-90ae-5aae7d45a180"
      },
      "execution_count": 94,
      "outputs": [
        {
          "output_type": "execute_result",
          "data": {
            "text/plain": [
              "[Text(0.5657894736842105, 0.9375, 'x[3] <= -0.225\\ngini = 0.5\\nsamples = 100\\nvalue = [51, 49]'),\n",
              " Text(0.34210526315789475, 0.8125, 'x[2] <= 0.22\\ngini = 0.256\\nsamples = 53\\nvalue = [8, 45]'),\n",
              " Text(0.21052631578947367, 0.6875, 'x[2] <= -2.811\\ngini = 0.136\\nsamples = 41\\nvalue = [3, 38]'),\n",
              " Text(0.10526315789473684, 0.5625, 'x[3] <= -2.204\\ngini = 0.5\\nsamples = 2\\nvalue = [1, 1]'),\n",
              " Text(0.05263157894736842, 0.4375, 'gini = 0.0\\nsamples = 1\\nvalue = [0, 1]'),\n",
              " Text(0.15789473684210525, 0.4375, 'gini = 0.0\\nsamples = 1\\nvalue = [1, 0]'),\n",
              " Text(0.3157894736842105, 0.5625, 'x[3] <= -0.785\\ngini = 0.097\\nsamples = 39\\nvalue = [2, 37]'),\n",
              " Text(0.2631578947368421, 0.4375, 'gini = 0.0\\nsamples = 30\\nvalue = [0, 30]'),\n",
              " Text(0.3684210526315789, 0.4375, 'x[3] <= -0.774\\ngini = 0.346\\nsamples = 9\\nvalue = [2, 7]'),\n",
              " Text(0.3157894736842105, 0.3125, 'gini = 0.0\\nsamples = 1\\nvalue = [1, 0]'),\n",
              " Text(0.42105263157894735, 0.3125, 'x[2] <= -1.458\\ngini = 0.219\\nsamples = 8\\nvalue = [1, 7]'),\n",
              " Text(0.3684210526315789, 0.1875, 'x[2] <= -2.298\\ngini = 0.444\\nsamples = 3\\nvalue = [1, 2]'),\n",
              " Text(0.3157894736842105, 0.0625, 'gini = 0.0\\nsamples = 2\\nvalue = [0, 2]'),\n",
              " Text(0.42105263157894735, 0.0625, 'gini = 0.0\\nsamples = 1\\nvalue = [1, 0]'),\n",
              " Text(0.47368421052631576, 0.1875, 'gini = 0.0\\nsamples = 5\\nvalue = [0, 5]'),\n",
              " Text(0.47368421052631576, 0.6875, 'x[0] <= -1.296\\ngini = 0.486\\nsamples = 12\\nvalue = [5, 7]'),\n",
              " Text(0.42105263157894735, 0.5625, 'gini = 0.0\\nsamples = 5\\nvalue = [0, 5]'),\n",
              " Text(0.5263157894736842, 0.5625, 'x[1] <= 2.801\\ngini = 0.408\\nsamples = 7\\nvalue = [5, 2]'),\n",
              " Text(0.47368421052631576, 0.4375, 'gini = 0.0\\nsamples = 5\\nvalue = [5, 0]'),\n",
              " Text(0.5789473684210527, 0.4375, 'gini = 0.0\\nsamples = 2\\nvalue = [0, 2]'),\n",
              " Text(0.7894736842105263, 0.8125, 'x[1] <= -0.906\\ngini = 0.156\\nsamples = 47\\nvalue = [43, 4]'),\n",
              " Text(0.6842105263157895, 0.6875, 'x[3] <= 0.068\\ngini = 0.444\\nsamples = 3\\nvalue = [1, 2]'),\n",
              " Text(0.631578947368421, 0.5625, 'gini = 0.0\\nsamples = 1\\nvalue = [1, 0]'),\n",
              " Text(0.7368421052631579, 0.5625, 'gini = 0.0\\nsamples = 2\\nvalue = [0, 2]'),\n",
              " Text(0.8947368421052632, 0.6875, 'x[3] <= 0.186\\ngini = 0.087\\nsamples = 44\\nvalue = [42, 2]'),\n",
              " Text(0.8421052631578947, 0.5625, 'x[3] <= 0.037\\ngini = 0.444\\nsamples = 6\\nvalue = [4, 2]'),\n",
              " Text(0.7894736842105263, 0.4375, 'gini = 0.0\\nsamples = 3\\nvalue = [3, 0]'),\n",
              " Text(0.8947368421052632, 0.4375, 'x[0] <= -2.466\\ngini = 0.444\\nsamples = 3\\nvalue = [1, 2]'),\n",
              " Text(0.8421052631578947, 0.3125, 'gini = 0.0\\nsamples = 1\\nvalue = [1, 0]'),\n",
              " Text(0.9473684210526315, 0.3125, 'gini = 0.0\\nsamples = 2\\nvalue = [0, 2]'),\n",
              " Text(0.9473684210526315, 0.5625, 'gini = 0.0\\nsamples = 38\\nvalue = [38, 0]')]"
            ]
          },
          "metadata": {},
          "execution_count": 94
        },
        {
          "output_type": "display_data",
          "data": {
            "text/plain": [
              "<Figure size 640x480 with 1 Axes>"
            ],
            "image/png": "[encoded data removed]"
          },
          "metadata": {}
        }
      ]
    },
    {
      "cell_type": "code",
      "source": [
        "plot_tree(clf3)"
      ],
      "metadata": {
        "colab": {
          "base_uri": "https://localhost:8080/",
          "height": 979
        },
        "id": "iSOeepiH1Fer",
        "outputId": "8c2f13ac-0247-4edf-8fb9-5df9a14ca5d1"
      },
      "execution_count": 95,
      "outputs": [
        {
          "output_type": "execute_result",
          "data": {
            "text/plain": [
              "[Text(0.5657894736842105, 0.9375, 'x[0] <= -0.225\\ngini = 0.5\\nsamples = 100\\nvalue = [51, 49]'),\n",
              " Text(0.34210526315789475, 0.8125, 'x[3] <= 0.22\\ngini = 0.256\\nsamples = 53\\nvalue = [8, 45]'),\n",
              " Text(0.21052631578947367, 0.6875, 'x[3] <= -2.811\\ngini = 0.136\\nsamples = 41\\nvalue = [3, 38]'),\n",
              " Text(0.10526315789473684, 0.5625, 'x[1] <= -0.112\\ngini = 0.5\\nsamples = 2\\nvalue = [1, 1]'),\n",
              " Text(0.05263157894736842, 0.4375, 'gini = 0.0\\nsamples = 1\\nvalue = [1, 0]'),\n",
              " Text(0.15789473684210525, 0.4375, 'gini = 0.0\\nsamples = 1\\nvalue = [0, 1]'),\n",
              " Text(0.3157894736842105, 0.5625, 'x[0] <= -0.785\\ngini = 0.097\\nsamples = 39\\nvalue = [2, 37]'),\n",
              " Text(0.2631578947368421, 0.4375, 'gini = 0.0\\nsamples = 30\\nvalue = [0, 30]'),\n",
              " Text(0.3684210526315789, 0.4375, 'x[0] <= -0.774\\ngini = 0.346\\nsamples = 9\\nvalue = [2, 7]'),\n",
              " Text(0.3157894736842105, 0.3125, 'gini = 0.0\\nsamples = 1\\nvalue = [1, 0]'),\n",
              " Text(0.42105263157894735, 0.3125, 'x[3] <= -1.458\\ngini = 0.219\\nsamples = 8\\nvalue = [1, 7]'),\n",
              " Text(0.3684210526315789, 0.1875, 'x[0] <= -0.463\\ngini = 0.444\\nsamples = 3\\nvalue = [1, 2]'),\n",
              " Text(0.3157894736842105, 0.0625, 'gini = 0.0\\nsamples = 2\\nvalue = [0, 2]'),\n",
              " Text(0.42105263157894735, 0.0625, 'gini = 0.0\\nsamples = 1\\nvalue = [1, 0]'),\n",
              " Text(0.47368421052631576, 0.1875, 'gini = 0.0\\nsamples = 5\\nvalue = [0, 5]'),\n",
              " Text(0.47368421052631576, 0.6875, 'x[1] <= -1.296\\ngini = 0.486\\nsamples = 12\\nvalue = [5, 7]'),\n",
              " Text(0.42105263157894735, 0.5625, 'gini = 0.0\\nsamples = 5\\nvalue = [0, 5]'),\n",
              " Text(0.5263157894736842, 0.5625, 'x[0] <= -0.581\\ngini = 0.408\\nsamples = 7\\nvalue = [5, 2]'),\n",
              " Text(0.47368421052631576, 0.4375, 'gini = 0.0\\nsamples = 4\\nvalue = [4, 0]'),\n",
              " Text(0.5789473684210527, 0.4375, 'x[0] <= -0.405\\ngini = 0.444\\nsamples = 3\\nvalue = [1, 2]'),\n",
              " Text(0.5263157894736842, 0.3125, 'gini = 0.0\\nsamples = 2\\nvalue = [0, 2]'),\n",
              " Text(0.631578947368421, 0.3125, 'gini = 0.0\\nsamples = 1\\nvalue = [1, 0]'),\n",
              " Text(0.7894736842105263, 0.8125, 'x[1] <= -3.545\\ngini = 0.156\\nsamples = 47\\nvalue = [43, 4]'),\n",
              " Text(0.6842105263157895, 0.6875, 'x[2] <= -0.834\\ngini = 0.444\\nsamples = 3\\nvalue = [1, 2]'),\n",
              " Text(0.631578947368421, 0.5625, 'gini = 0.0\\nsamples = 1\\nvalue = [1, 0]'),\n",
              " Text(0.7368421052631579, 0.5625, 'gini = 0.0\\nsamples = 2\\nvalue = [0, 2]'),\n",
              " Text(0.8947368421052632, 0.6875, 'x[0] <= 0.186\\ngini = 0.087\\nsamples = 44\\nvalue = [42, 2]'),\n",
              " Text(0.8421052631578947, 0.5625, 'x[2] <= -0.277\\ngini = 0.408\\nsamples = 7\\nvalue = [5, 2]'),\n",
              " Text(0.7894736842105263, 0.4375, 'gini = 0.0\\nsamples = 4\\nvalue = [4, 0]'),\n",
              " Text(0.8947368421052632, 0.4375, 'x[0] <= -0.074\\ngini = 0.444\\nsamples = 3\\nvalue = [1, 2]'),\n",
              " Text(0.8421052631578947, 0.3125, 'gini = 0.0\\nsamples = 1\\nvalue = [1, 0]'),\n",
              " Text(0.9473684210526315, 0.3125, 'gini = 0.0\\nsamples = 2\\nvalue = [0, 2]'),\n",
              " Text(0.9473684210526315, 0.5625, 'gini = 0.0\\nsamples = 37\\nvalue = [37, 0]')]"
            ]
          },
          "metadata": {},
          "execution_count": 95
        },
        {
          "output_type": "display_data",
          "data": {
            "text/plain": [
              "<Figure size 640x480 with 1 Axes>"
            ],
            "image/png": "[encoded data removed]"
          },
          "metadata": {}
        }
      ]
    },
    {
      "cell_type": "code",
      "source": [
        "print(df1.columns)\n",
        "print(df2.columns)\n",
        "print(df3.columns)"
      ],
      "metadata": {
        "colab": {
          "base_uri": "https://localhost:8080/"
        },
        "id": "zaW_rNPQ1Irp",
        "outputId": "8f2b8bd0-a56c-42ed-cd88-1562977c0ca3"
      },
      "execution_count": 96,
      "outputs": [
        {
          "output_type": "stream",
          "name": "stdout",
          "text": [
            "Index(['col5', 'col1', 'col4', 'col2', 'target'], dtype='object')\n",
            "Index(['col5', 'col3', 'col1', 'col4', 'target'], dtype='object')\n",
            "Index(['col4', 'col5', 'col2', 'col1', 'target'], dtype='object')\n"
          ]
        }
      ]
    },
    {
      "cell_type": "code",
      "source": [
        "df3"
      ],
      "metadata": {
        "colab": {
          "base_uri": "https://localhost:8080/",
          "height": 424
        },
        "id": "dNR8AuUy2FcO",
        "outputId": "9990135d-6cd9-4200-9e19-669645ea830a"
      },
      "execution_count": 99,
      "outputs": [
        {
          "output_type": "execute_result",
          "data": {
            "text/plain": [
              "        col4      col5      col2      col1  target\n",
              "0  -1.047075 -1.253992  0.210839 -1.963525       1\n",
              "1  -1.616319  0.275404 -1.321185 -2.440081       1\n",
              "2   1.599039 -0.297686  0.003179 -2.377348       0\n",
              "3  -1.514738  1.957791  0.230523  0.496596       0\n",
              "4   0.165703 -3.645530 -0.295711  1.380346       1\n",
              "..       ...       ...       ...       ...     ...\n",
              "95 -1.254777 -0.775777  1.523105 -1.160171       1\n",
              "96 -0.641910 -0.724774 -0.587294  0.338666       0\n",
              "97  0.113613 -2.826123 -2.463673  1.437914       0\n",
              "98 -0.253526 -3.224605  1.057743  1.481481       1\n",
              "99 -0.029706 -0.588714 -2.541349  1.276161       0\n",
              "\n",
              "[100 rows x 5 columns]"
            ],
            "text/html": [
              "\n",
              "  <div id=\"df-7172bf99-2b29-43f4-9e35-fcfdcf564e8c\" class=\"colab-df-container\">\n",
              "    <div>\n",
              "<style scoped>\n",
              "    .dataframe tbody tr th:only-of-type {\n",
              "        vertical-align: middle;\n",
              "    }\n",
              "\n",
              "    .dataframe tbody tr th {\n",
              "        vertical-align: top;\n",
              "    }\n",
              "\n",
              "    .dataframe thead th {\n",
              "        text-align: right;\n",
              "    }\n",
              "</style>\n",
              "<table border=\"1\" class=\"dataframe\">\n",
              "  <thead>\n",
              "    <tr style=\"text-align: right;\">\n",
              "      <th></th>\n",
              "      <th>col4</th>\n",
              "      <th>col5</th>\n",
              "      <th>col2</th>\n",
              "      <th>col1</th>\n",
              "      <th>target</th>\n",
              "    </tr>\n",
              "  </thead>\n",
              "  <tbody>\n",
              "    <tr>\n",
              "      <th>0</th>\n",
              "      <td>-1.047075</td>\n",
              "      <td>-1.253992</td>\n",
              "      <td>0.210839</td>\n",
              "      <td>-1.963525</td>\n",
              "      <td>1</td>\n",
              "    </tr>\n",
              "    <tr>\n",
              "      <th>1</th>\n",
              "      <td>-1.616319</td>\n",
              "      <td>0.275404</td>\n",
              "      <td>-1.321185</td>\n",
              "      <td>-2.440081</td>\n",
              "      <td>1</td>\n",
              "    </tr>\n",
              "    <tr>\n",
              "      <th>2</th>\n",
              "      <td>1.599039</td>\n",
              "      <td>-0.297686</td>\n",
              "      <td>0.003179</td>\n",
              "      <td>-2.377348</td>\n",
              "      <td>0</td>\n",
              "    </tr>\n",
              "    <tr>\n",
              "      <th>3</th>\n",
              "      <td>-1.514738</td>\n",
              "      <td>1.957791</td>\n",
              "      <td>0.230523</td>\n",
              "      <td>0.496596</td>\n",
              "      <td>0</td>\n",
              "    </tr>\n",
              "    <tr>\n",
              "      <th>4</th>\n",
              "      <td>0.165703</td>\n",
              "      <td>-3.645530</td>\n",
              "      <td>-0.295711</td>\n",
              "      <td>1.380346</td>\n",
              "      <td>1</td>\n",
              "    </tr>\n",
              "    <tr>\n",
              "      <th>...</th>\n",
              "      <td>...</td>\n",
              "      <td>...</td>\n",
              "      <td>...</td>\n",
              "      <td>...</td>\n",
              "      <td>...</td>\n",
              "    </tr>\n",
              "    <tr>\n",
              "      <th>95</th>\n",
              "      <td>-1.254777</td>\n",
              "      <td>-0.775777</td>\n",
              "      <td>1.523105</td>\n",
              "      <td>-1.160171</td>\n",
              "      <td>1</td>\n",
              "    </tr>\n",
              "    <tr>\n",
              "      <th>96</th>\n",
              "      <td>-0.641910</td>\n",
              "      <td>-0.724774</td>\n",
              "      <td>-0.587294</td>\n",
              "      <td>0.338666</td>\n",
              "      <td>0</td>\n",
              "    </tr>\n",
              "    <tr>\n",
              "      <th>97</th>\n",
              "      <td>0.113613</td>\n",
              "      <td>-2.826123</td>\n",
              "      <td>-2.463673</td>\n",
              "      <td>1.437914</td>\n",
              "      <td>0</td>\n",
              "    </tr>\n",
              "    <tr>\n",
              "      <th>98</th>\n",
              "      <td>-0.253526</td>\n",
              "      <td>-3.224605</td>\n",
              "      <td>1.057743</td>\n",
              "      <td>1.481481</td>\n",
              "      <td>1</td>\n",
              "    </tr>\n",
              "    <tr>\n",
              "      <th>99</th>\n",
              "      <td>-0.029706</td>\n",
              "      <td>-0.588714</td>\n",
              "      <td>-2.541349</td>\n",
              "      <td>1.276161</td>\n",
              "      <td>0</td>\n",
              "    </tr>\n",
              "  </tbody>\n",
              "</table>\n",
              "<p>100 rows × 5 columns</p>\n",
              "</div>\n",
              "    <div class=\"colab-df-buttons\">\n",
              "\n",
              "  <div class=\"colab-df-container\">\n",
              "    <button class=\"colab-df-convert\" onclick=\"convertToInteractive('df-7172bf99-2b29-43f4-9e35-fcfdcf564e8c')\"\n",
              "            title=\"Convert this dataframe to an interactive table.\"\n",
              "            style=\"display:none;\">\n",
              "\n",
              "  <svg xmlns=\"http://www.w3.org/2000/svg\" height=\"24px\" viewBox=\"0 -960 960 960\">\n",
              "    <path d=\"M120-120v-720h720v720H120Zm60-500h600v-160H180v160Zm220 220h160v-160H400v160Zm0 220h160v-160H400v160ZM180-400h160v-160H180v160Zm440 0h160v-160H620v160ZM180-180h160v-160H180v160Zm440 0h160v-160H620v160Z\"/>\n",
              "  </svg>\n",
              "    </button>\n",
              "\n",
              "  <style>\n",
              "    .colab-df-container {\n",
              "      display:flex;\n",
              "      gap: 12px;\n",
              "    }\n",
              "\n",
              "    .colab-df-convert {\n",
              "      background-color: #E8F0FE;\n",
              "      border: none;\n",
              "      border-radius: 50%;\n",
              "      cursor: pointer;\n",
              "      display: none;\n",
              "      fill: #1967D2;\n",
              "      height: 32px;\n",
              "      padding: 0 0 0 0;\n",
              "      width: 32px;\n",
              "    }\n",
              "\n",
              "    .colab-df-convert:hover {\n",
              "      background-color: #E2EBFA;\n",
              "      box-shadow: 0px 1px 2px rgba(60, 64, 67, 0.3), 0px 1px 3px 1px rgba(60, 64, 67, 0.15);\n",
              "      fill: #174EA6;\n",
              "    }\n",
              "\n",
              "    .colab-df-buttons div {\n",
              "      margin-bottom: 4px;\n",
              "    }\n",
              "\n",
              "    [theme=dark] .colab-df-convert {\n",
              "      background-color: #3B4455;\n",
              "      fill: #D2E3FC;\n",
              "    }\n",
              "\n",
              "    [theme=dark] .colab-df-convert:hover {\n",
              "      background-color: #434B5C;\n",
              "      box-shadow: 0px 1px 3px 1px rgba(0, 0, 0, 0.15);\n",
              "      filter: drop-shadow(0px 1px 2px rgba(0, 0, 0, 0.3));\n",
              "      fill: #FFFFFF;\n",
              "    }\n",
              "  </style>\n",
              "\n",
              "    <script>\n",
              "      const buttonEl =\n",
              "        document.querySelector('#df-7172bf99-2b29-43f4-9e35-fcfdcf564e8c button.colab-df-convert');\n",
              "      buttonEl.style.display =\n",
              "        google.colab.kernel.accessAllowed ? 'block' : 'none';\n",
              "\n",
              "      async function convertToInteractive(key) {\n",
              "        const element = document.querySelector('#df-7172bf99-2b29-43f4-9e35-fcfdcf564e8c');\n",
              "        const dataTable =\n",
              "          await google.colab.kernel.invokeFunction('convertToInteractive',\n",
              "                                                    [key], {});\n",
              "        if (!dataTable) return;\n",
              "\n",
              "        const docLinkHtml = 'Like what you see? Visit the ' +\n",
              "          '<a target=\"_blank\" href=https://colab.research.google.com/notebooks/data_table.ipynb>data table notebook</a>'\n",
              "          + ' to learn more about interactive tables.';\n",
              "        element.innerHTML = '';\n",
              "        dataTable['output_type'] = 'display_data';\n",
              "        await google.colab.output.renderOutput(dataTable, element);\n",
              "        const docLink = document.createElement('div');\n",
              "        docLink.innerHTML = docLinkHtml;\n",
              "        element.appendChild(docLink);\n",
              "      }\n",
              "    </script>\n",
              "  </div>\n",
              "\n",
              "\n",
              "<div id=\"df-3507055f-5735-4b03-b50b-76a86062d1e8\">\n",
              "  <button class=\"colab-df-quickchart\" onclick=\"quickchart('df-3507055f-5735-4b03-b50b-76a86062d1e8')\"\n",
              "            title=\"Suggest charts\"\n",
              "            style=\"display:none;\">\n",
              "\n",
              "<svg xmlns=\"http://www.w3.org/2000/svg\" height=\"24px\"viewBox=\"0 0 24 24\"\n",
              "     width=\"24px\">\n",
              "    <g>\n",
              "        <path d=\"M19 3H5c-1.1 0-2 .9-2 2v14c0 1.1.9 2 2 2h14c1.1 0 2-.9 2-2V5c0-1.1-.9-2-2-2zM9 17H7v-7h2v7zm4 0h-2V7h2v10zm4 0h-2v-4h2v4z\"/>\n",
              "    </g>\n",
              "</svg>\n",
              "  </button>\n",
              "\n",
              "<style>\n",
              "  .colab-df-quickchart {\n",
              "      --bg-color: #E8F0FE;\n",
              "      --fill-color: #1967D2;\n",
              "      --hover-bg-color: #E2EBFA;\n",
              "      --hover-fill-color: #174EA6;\n",
              "      --disabled-fill-color: #AAA;\n",
              "      --disabled-bg-color: #DDD;\n",
              "  }\n",
              "\n",
              "  [theme=dark] .colab-df-quickchart {\n",
              "      --bg-color: #3B4455;\n",
              "      --fill-color: #D2E3FC;\n",
              "      --hover-bg-color: #434B5C;\n",
              "      --hover-fill-color: #FFFFFF;\n",
              "      --disabled-bg-color: #3B4455;\n",
              "      --disabled-fill-color: #666;\n",
              "  }\n",
              "\n",
              "  .colab-df-quickchart {\n",
              "    background-color: var(--bg-color);\n",
              "    border: none;\n",
              "    border-radius: 50%;\n",
              "    cursor: pointer;\n",
              "    display: none;\n",
              "    fill: var(--fill-color);\n",
              "    height: 32px;\n",
              "    padding: 0;\n",
              "    width: 32px;\n",
              "  }\n",
              "\n",
              "  .colab-df-quickchart:hover {\n",
              "    background-color: var(--hover-bg-color);\n",
              "    box-shadow: 0 1px 2px rgba(60, 64, 67, 0.3), 0 1px 3px 1px rgba(60, 64, 67, 0.15);\n",
              "    fill: var(--button-hover-fill-color);\n",
              "  }\n",
              "\n",
              "  .colab-df-quickchart-complete:disabled,\n",
              "  .colab-df-quickchart-complete:disabled:hover {\n",
              "    background-color: var(--disabled-bg-color);\n",
              "    fill: var(--disabled-fill-color);\n",
              "    box-shadow: none;\n",
              "  }\n",
              "\n",
              "  .colab-df-spinner {\n",
              "    border: 2px solid var(--fill-color);\n",
              "    border-color: transparent;\n",
              "    border-bottom-color: var(--fill-color);\n",
              "    animation:\n",
              "      spin 1s steps(1) infinite;\n",
              "  }\n",
              "\n",
              "  @keyframes spin {\n",
              "    0% {\n",
              "      border-color: transparent;\n",
              "      border-bottom-color: var(--fill-color);\n",
              "      border-left-color: var(--fill-color);\n",
              "    }\n",
              "    20% {\n",
              "      border-color: transparent;\n",
              "      border-left-color: var(--fill-color);\n",
              "      border-top-color: var(--fill-color);\n",
              "    }\n",
              "    30% {\n",
              "      border-color: transparent;\n",
              "      border-left-color: var(--fill-color);\n",
              "      border-top-color: var(--fill-color);\n",
              "      border-right-color: var(--fill-color);\n",
              "    }\n",
              "    40% {\n",
              "      border-color: transparent;\n",
              "      border-right-color: var(--fill-color);\n",
              "      border-top-color: var(--fill-color);\n",
              "    }\n",
              "    60% {\n",
              "      border-color: transparent;\n",
              "      border-right-color: var(--fill-color);\n",
              "    }\n",
              "    80% {\n",
              "      border-color: transparent;\n",
              "      border-right-color: var(--fill-color);\n",
              "      border-bottom-color: var(--fill-color);\n",
              "    }\n",
              "    90% {\n",
              "      border-color: transparent;\n",
              "      border-bottom-color: var(--fill-color);\n",
              "    }\n",
              "  }\n",
              "</style>\n",
              "\n",
              "  <script>\n",
              "    async function quickchart(key) {\n",
              "      const quickchartButtonEl =\n",
              "        document.querySelector('#' + key + ' button');\n",
              "      quickchartButtonEl.disabled = true;  // To prevent multiple clicks.\n",
              "      quickchartButtonEl.classList.add('colab-df-spinner');\n",
              "      try {\n",
              "        const charts = await google.colab.kernel.invokeFunction(\n",
              "            'suggestCharts', [key], {});\n",
              "      } catch (error) {\n",
              "        console.error('Error during call to suggestCharts:', error);\n",
              "      }\n",
              "      quickchartButtonEl.classList.remove('colab-df-spinner');\n",
              "      quickchartButtonEl.classList.add('colab-df-quickchart-complete');\n",
              "    }\n",
              "    (() => {\n",
              "      let quickchartButtonEl =\n",
              "        document.querySelector('#df-3507055f-5735-4b03-b50b-76a86062d1e8 button');\n",
              "      quickchartButtonEl.style.display =\n",
              "        google.colab.kernel.accessAllowed ? 'block' : 'none';\n",
              "    })();\n",
              "  </script>\n",
              "</div>\n",
              "\n",
              "  <div id=\"id_7ddb01f2-de12-4fdd-8768-61aa7f3a800d\">\n",
              "    <style>\n",
              "      .colab-df-generate {\n",
              "        background-color: #E8F0FE;\n",
              "        border: none;\n",
              "        border-radius: 50%;\n",
              "        cursor: pointer;\n",
              "        display: none;\n",
              "        fill: #1967D2;\n",
              "        height: 32px;\n",
              "        padding: 0 0 0 0;\n",
              "        width: 32px;\n",
              "      }\n",
              "\n",
              "      .colab-df-generate:hover {\n",
              "        background-color: #E2EBFA;\n",
              "        box-shadow: 0px 1px 2px rgba(60, 64, 67, 0.3), 0px 1px 3px 1px rgba(60, 64, 67, 0.15);\n",
              "        fill: #174EA6;\n",
              "      }\n",
              "\n",
              "      [theme=dark] .colab-df-generate {\n",
              "        background-color: #3B4455;\n",
              "        fill: #D2E3FC;\n",
              "      }\n",
              "\n",
              "      [theme=dark] .colab-df-generate:hover {\n",
              "        background-color: #434B5C;\n",
              "        box-shadow: 0px 1px 3px 1px rgba(0, 0, 0, 0.15);\n",
              "        filter: drop-shadow(0px 1px 2px rgba(0, 0, 0, 0.3));\n",
              "        fill: #FFFFFF;\n",
              "      }\n",
              "    </style>\n",
              "    <button class=\"colab-df-generate\" onclick=\"generateWithVariable('df3')\"\n",
              "            title=\"Generate code using this dataframe.\"\n",
              "            style=\"display:none;\">\n",
              "\n",
              "  <svg xmlns=\"http://www.w3.org/2000/svg\" height=\"24px\"viewBox=\"0 0 24 24\"\n",
              "       width=\"24px\">\n",
              "    <path d=\"M7,19H8.4L18.45,9,17,7.55,7,17.6ZM5,21V16.75L18.45,3.32a2,2,0,0,1,2.83,0l1.4,1.43a1.91,1.91,0,0,1,.58,1.4,1.91,1.91,0,0,1-.58,1.4L9.25,21ZM18.45,9,17,7.55Zm-12,3A5.31,5.31,0,0,0,4.9,8.1,5.31,5.31,0,0,0,1,6.5,5.31,5.31,0,0,0,4.9,4.9,5.31,5.31,0,0,0,6.5,1,5.31,5.31,0,0,0,8.1,4.9,5.31,5.31,0,0,0,12,6.5,5.46,5.46,0,0,0,6.5,12Z\"/>\n",
              "  </svg>\n",
              "    </button>\n",
              "    <script>\n",
              "      (() => {\n",
              "      const buttonEl =\n",
              "        document.querySelector('#id_7ddb01f2-de12-4fdd-8768-61aa7f3a800d button.colab-df-generate');\n",
              "      buttonEl.style.display =\n",
              "        google.colab.kernel.accessAllowed ? 'block' : 'none';\n",
              "\n",
              "      buttonEl.onclick = () => {\n",
              "        google.colab.notebook.generateWithVariable('df3');\n",
              "      }\n",
              "      })();\n",
              "    </script>\n",
              "  </div>\n",
              "\n",
              "    </div>\n",
              "  </div>\n"
            ],
            "application/vnd.google.colaboratory.intrinsic+json": {
              "type": "dataframe",
              "variable_name": "df3",
              "summary": "{\n  \"name\": \"df3\",\n  \"rows\": 100,\n  \"fields\": [\n    {\n      \"column\": \"col4\",\n      \"properties\": {\n        \"dtype\": \"number\",\n        \"std\": 1.4752334823913316,\n        \"min\": -3.518543059058528,\n        \"max\": 3.39052472689646,\n        \"num_unique_values\": 100,\n        \"samples\": [\n          -1.4482883848791872,\n          1.0164961136366915,\n          -0.9661177143333302\n        ],\n        \"semantic_type\": \"\",\n        \"description\": \"\"\n      }\n    },\n    {\n      \"column\": \"col5\",\n      \"properties\": {\n        \"dtype\": \"number\",\n        \"std\": 1.2900351704580932,\n        \"min\": -4.451881806559923,\n        \"max\": 2.282758013099294,\n        \"num_unique_values\": 100,\n        \"samples\": [\n          0.29626070044312347,\n          -2.0956214901360735,\n          -0.20485543069135426\n        ],\n        \"semantic_type\": \"\",\n        \"description\": \"\"\n      }\n    },\n    {\n      \"column\": \"col2\",\n      \"properties\": {\n        \"dtype\": \"number\",\n        \"std\": 1.6539022853992453,\n        \"min\": -4.199912924428947,\n        \"max\": 4.572940005675181,\n        \"num_unique_values\": 100,\n        \"samples\": [\n          0.36673457871249304,\n          -1.8064055544525293,\n          1.7545103103731514\n        ],\n        \"semantic_type\": \"\",\n        \"description\": \"\"\n      }\n    },\n    {\n      \"column\": \"col1\",\n      \"properties\": {\n        \"dtype\": \"number\",\n        \"std\": 1.3296039208935193,\n        \"min\": -3.9780263774053837,\n        \"max\": 2.369331544630418,\n        \"num_unique_values\": 100,\n        \"samples\": [\n          -2.6553941750182615,\n          -0.0053556685859957875,\n          -2.1242258898534887\n        ],\n        \"semantic_type\": \"\",\n        \"description\": \"\"\n      }\n    },\n    {\n      \"column\": \"target\",\n      \"properties\": {\n        \"dtype\": \"number\",\n        \"std\": 0,\n        \"min\": 0,\n        \"max\": 1,\n        \"num_unique_values\": 2,\n        \"samples\": [\n          0,\n          1\n        ],\n        \"semantic_type\": \"\",\n        \"description\": \"\"\n      }\n    }\n  ]\n}"
            }
          },
          "metadata": {},
          "execution_count": 99
        }
      ]
    },
    {
      "cell_type": "code",
      "source": [
        "clf1.predict(np.array([-1.047075,-1.253992,0.210839,-1.963525]).reshape(1,4))"
      ],
      "metadata": {
        "colab": {
          "base_uri": "https://localhost:8080/"
        },
        "id": "1beqOSLu1ctC",
        "outputId": "866a98ab-5b5a-423a-f079-170eb95a0f98"
      },
      "execution_count": 100,
      "outputs": [
        {
          "output_type": "stream",
          "name": "stderr",
          "text": [
            "/usr/local/lib/python3.10/dist-packages/sklearn/base.py:439: UserWarning: X does not have valid feature names, but DecisionTreeClassifier was fitted with feature names\n",
            "  warnings.warn(\n"
          ]
        },
        {
          "output_type": "execute_result",
          "data": {
            "text/plain": [
              "array([0])"
            ]
          },
          "metadata": {},
          "execution_count": 100
        }
      ]
    },
    {
      "cell_type": "code",
      "source": [
        "clf2.predict(np.array([-1.047075,-1.253992,0.210839,-1.963525]).reshape(1,4))"
      ],
      "metadata": {
        "colab": {
          "base_uri": "https://localhost:8080/"
        },
        "id": "IeXidaHP10Gy",
        "outputId": "46bd2c01-affd-49e2-e524-0e46b22c14b6"
      },
      "execution_count": 101,
      "outputs": [
        {
          "output_type": "stream",
          "name": "stderr",
          "text": [
            "/usr/local/lib/python3.10/dist-packages/sklearn/base.py:439: UserWarning: X does not have valid feature names, but DecisionTreeClassifier was fitted with feature names\n",
            "  warnings.warn(\n"
          ]
        },
        {
          "output_type": "execute_result",
          "data": {
            "text/plain": [
              "array([1])"
            ]
          },
          "metadata": {},
          "execution_count": 101
        }
      ]
    },
    {
      "cell_type": "code",
      "source": [
        "clf3.predict(np.array([-1.047075,-1.253992,0.210839,-1.963525]).reshape(1,4))"
      ],
      "metadata": {
        "colab": {
          "base_uri": "https://localhost:8080/"
        },
        "id": "5OajC41Q2QsX",
        "outputId": "4cd09842-86e7-43c2-c909-dc10a21f1f76"
      },
      "execution_count": 102,
      "outputs": [
        {
          "output_type": "stream",
          "name": "stderr",
          "text": [
            "/usr/local/lib/python3.10/dist-packages/sklearn/base.py:439: UserWarning: X does not have valid feature names, but DecisionTreeClassifier was fitted with feature names\n",
            "  warnings.warn(\n"
          ]
        },
        {
          "output_type": "execute_result",
          "data": {
            "text/plain": [
              "array([1])"
            ]
          },
          "metadata": {},
          "execution_count": 102
        }
      ]
    },
    {
      "cell_type": "code",
      "source": [],
      "metadata": {
        "id": "a4SYqV-A2TTy"
      },
      "execution_count": null,
      "outputs": []
    },
    {
      "cell_type": "code",
      "source": [
        "df1 = combined_sampling(df, 0.5,0.5)"
      ],
      "metadata": {
        "colab": {
          "base_uri": "https://localhost:8080/"
        },
        "id": "iEMxwnpD2iET",
        "outputId": "8ea8f995-96e6-436a-df60-1289552d887c"
      },
      "execution_count": 140,
      "outputs": [
        {
          "output_type": "stream",
          "name": "stderr",
          "text": [
            "<ipython-input-131-33193cca5e8d>:5: SettingWithCopyWarning: \n",
            "A value is trying to be set on a copy of a slice from a DataFrame.\n",
            "Try using .loc[row_indexer,col_indexer] = value instead\n",
            "\n",
            "See the caveats in the documentation: https://pandas.pydata.org/pandas-docs/stable/user_guide/indexing.html#returning-a-view-versus-a-copy\n",
            "  new_df[\"target\"] = df[\"target\"]\n"
          ]
        }
      ]
    },
    {
      "cell_type": "code",
      "source": [
        "df2 = combined_sampling(df, 0.5,0.5)"
      ],
      "metadata": {
        "colab": {
          "base_uri": "https://localhost:8080/"
        },
        "id": "VP4WkWD12wpW",
        "outputId": "4bc75ea9-10c1-4d50-eef2-f4a1308a2149"
      },
      "execution_count": 141,
      "outputs": [
        {
          "output_type": "stream",
          "name": "stderr",
          "text": [
            "<ipython-input-131-33193cca5e8d>:5: SettingWithCopyWarning: \n",
            "A value is trying to be set on a copy of a slice from a DataFrame.\n",
            "Try using .loc[row_indexer,col_indexer] = value instead\n",
            "\n",
            "See the caveats in the documentation: https://pandas.pydata.org/pandas-docs/stable/user_guide/indexing.html#returning-a-view-versus-a-copy\n",
            "  new_df[\"target\"] = df[\"target\"]\n"
          ]
        }
      ]
    },
    {
      "cell_type": "code",
      "source": [
        "df3 = combined_sampling(df, 0.5,0.5)"
      ],
      "metadata": {
        "colab": {
          "base_uri": "https://localhost:8080/"
        },
        "id": "BMNY8DRC4BSp",
        "outputId": "6595614e-afe8-4914-d931-c71fdcf2efbd"
      },
      "execution_count": 142,
      "outputs": [
        {
          "output_type": "stream",
          "name": "stderr",
          "text": [
            "<ipython-input-131-33193cca5e8d>:5: SettingWithCopyWarning: \n",
            "A value is trying to be set on a copy of a slice from a DataFrame.\n",
            "Try using .loc[row_indexer,col_indexer] = value instead\n",
            "\n",
            "See the caveats in the documentation: https://pandas.pydata.org/pandas-docs/stable/user_guide/indexing.html#returning-a-view-versus-a-copy\n",
            "  new_df[\"target\"] = df[\"target\"]\n"
          ]
        }
      ]
    },
    {
      "cell_type": "code",
      "source": [
        "print(df1.columns)\n",
        "print(df2.columns)\n",
        "print(df3.columns)"
      ],
      "metadata": {
        "colab": {
          "base_uri": "https://localhost:8080/"
        },
        "id": "QiIJHBQR4Crp",
        "outputId": "5ef75316-69e7-43e9-de4e-3efcffff46fe"
      },
      "execution_count": 143,
      "outputs": [
        {
          "output_type": "stream",
          "name": "stdout",
          "text": [
            "Index(['col1', 'col2', 'target'], dtype='object')\n",
            "Index(['col3', 'col2', 'target'], dtype='object')\n",
            "Index(['col2', 'col3', 'target'], dtype='object')\n"
          ]
        }
      ]
    },
    {
      "cell_type": "code",
      "source": [
        "from sklearn.tree import DecisionTreeClassifier\n",
        "\n",
        "clf1 = DecisionTreeClassifier()\n",
        "clf2 = DecisionTreeClassifier()\n",
        "clf3 = DecisionTreeClassifier()"
      ],
      "metadata": {
        "id": "v9etf9JV4HQ-"
      },
      "execution_count": 144,
      "outputs": []
    },
    {
      "cell_type": "code",
      "source": [
        "clf1.fit(df1.iloc[:,0:2], df1.iloc[:,-1])\n",
        "clf2.fit(df2.iloc[:,0:2], df2.iloc[:,-1])\n",
        "clf3.fit(df3.iloc[:,0:2], df3.iloc[:,-1])"
      ],
      "metadata": {
        "colab": {
          "base_uri": "https://localhost:8080/",
          "height": 75
        },
        "id": "m3dzUQp84cCF",
        "outputId": "9b588636-3a4d-43ce-f557-0b937c015327"
      },
      "execution_count": 145,
      "outputs": [
        {
          "output_type": "execute_result",
          "data": {
            "text/plain": [
              "DecisionTreeClassifier()"
            ],
            "text/html": [
              "<style>#sk-container-id-6 {color: black;background-color: white;}#sk-container-id-6 pre{padding: 0;}#sk-container-id-6 div.sk-toggleable {background-color: white;}#sk-container-id-6 label.sk-toggleable__label {cursor: pointer;display: block;width: 100%;margin-bottom: 0;padding: 0.3em;box-sizing: border-box;text-align: center;}#sk-container-id-6 label.sk-toggleable__label-arrow:before {content: \"▸\";float: left;margin-right: 0.25em;color: #696969;}#sk-container-id-6 label.sk-toggleable__label-arrow:hover:before {color: black;}#sk-container-id-6 div.sk-estimator:hover label.sk-toggleable__label-arrow:before {color: black;}#sk-container-id-6 div.sk-toggleable__content {max-height: 0;max-width: 0;overflow: hidden;text-align: left;background-color: #f0f8ff;}#sk-container-id-6 div.sk-toggleable__content pre {margin: 0.2em;color: black;border-radius: 0.25em;background-color: #f0f8ff;}#sk-container-id-6 input.sk-toggleable__control:checked~div.sk-toggleable__content {max-height: 200px;max-width: 100%;overflow: auto;}#sk-container-id-6 input.sk-toggleable__control:checked~label.sk-toggleable__label-arrow:before {content: \"▾\";}#sk-container-id-6 div.sk-estimator input.sk-toggleable__control:checked~label.sk-toggleable__label {background-color: #d4ebff;}#sk-container-id-6 div.sk-label input.sk-toggleable__control:checked~label.sk-toggleable__label {background-color: #d4ebff;}#sk-container-id-6 input.sk-hidden--visually {border: 0;clip: rect(1px 1px 1px 1px);clip: rect(1px, 1px, 1px, 1px);height: 1px;margin: -1px;overflow: hidden;padding: 0;position: absolute;width: 1px;}#sk-container-id-6 div.sk-estimator {font-family: monospace;background-color: #f0f8ff;border: 1px dotted black;border-radius: 0.25em;box-sizing: border-box;margin-bottom: 0.5em;}#sk-container-id-6 div.sk-estimator:hover {background-color: #d4ebff;}#sk-container-id-6 div.sk-parallel-item::after {content: \"\";width: 100%;border-bottom: 1px solid gray;flex-grow: 1;}#sk-container-id-6 div.sk-label:hover label.sk-toggleable__label {background-color: #d4ebff;}#sk-container-id-6 div.sk-serial::before {content: \"\";position: absolute;border-left: 1px solid gray;box-sizing: border-box;top: 0;bottom: 0;left: 50%;z-index: 0;}#sk-container-id-6 div.sk-serial {display: flex;flex-direction: column;align-items: center;background-color: white;padding-right: 0.2em;padding-left: 0.2em;position: relative;}#sk-container-id-6 div.sk-item {position: relative;z-index: 1;}#sk-container-id-6 div.sk-parallel {display: flex;align-items: stretch;justify-content: center;background-color: white;position: relative;}#sk-container-id-6 div.sk-item::before, #sk-container-id-6 div.sk-parallel-item::before {content: \"\";position: absolute;border-left: 1px solid gray;box-sizing: border-box;top: 0;bottom: 0;left: 50%;z-index: -1;}#sk-container-id-6 div.sk-parallel-item {display: flex;flex-direction: column;z-index: 1;position: relative;background-color: white;}#sk-container-id-6 div.sk-parallel-item:first-child::after {align-self: flex-end;width: 50%;}#sk-container-id-6 div.sk-parallel-item:last-child::after {align-self: flex-start;width: 50%;}#sk-container-id-6 div.sk-parallel-item:only-child::after {width: 0;}#sk-container-id-6 div.sk-dashed-wrapped {border: 1px dashed gray;margin: 0 0.4em 0.5em 0.4em;box-sizing: border-box;padding-bottom: 0.4em;background-color: white;}#sk-container-id-6 div.sk-label label {font-family: monospace;font-weight: bold;display: inline-block;line-height: 1.2em;}#sk-container-id-6 div.sk-label-container {text-align: center;}#sk-container-id-6 div.sk-container {/* jupyter's `normalize.less` sets `[hidden] { display: none; }` but bootstrap.min.css set `[hidden] { display: none !important; }` so we also need the `!important` here to be able to override the default hidden behavior on the sphinx rendered scikit-learn.org. See: https://github.com/scikit-learn/scikit-learn/issues/21755 */display: inline-block !important;position: relative;}#sk-container-id-6 div.sk-text-repr-fallback {display: none;}</style><div id=\"sk-container-id-6\" class=\"sk-top-container\"><div class=\"sk-text-repr-fallback\"><pre>DecisionTreeClassifier()</pre><b>In a Jupyter environment, please rerun this cell to show the HTML representation or trust the notebook. <br />On GitHub, the HTML representation is unable to render, please try loading this page with nbviewer.org.</b></div><div class=\"sk-container\" hidden><div class=\"sk-item\"><div class=\"sk-estimator sk-toggleable\"><input class=\"sk-toggleable__control sk-hidden--visually\" id=\"sk-estimator-id-6\" type=\"checkbox\" checked><label for=\"sk-estimator-id-6\" class=\"sk-toggleable__label sk-toggleable__label-arrow\">DecisionTreeClassifier</label><div class=\"sk-toggleable__content\"><pre>DecisionTreeClassifier()</pre></div></div></div></div></div>"
            ]
          },
          "metadata": {},
          "execution_count": 145
        }
      ]
    },
    {
      "cell_type": "code",
      "source": [
        "plot_tree(clf1)"
      ],
      "metadata": {
        "colab": {
          "base_uri": "https://localhost:8080/",
          "height": 805
        },
        "id": "AiTaaLQv4hqs",
        "outputId": "9bcde77a-e880-4267-8817-34270e2e6d70"
      },
      "execution_count": 146,
      "outputs": [
        {
          "output_type": "execute_result",
          "data": {
            "text/plain": [
              "[Text(0.3333333333333333, 0.95, 'x[0] <= -0.611\\ngini = 0.497\\nsamples = 50\\nvalue = [27, 23]'),\n",
              " Text(0.16666666666666666, 0.85, 'x[0] <= -0.873\\ngini = 0.133\\nsamples = 14\\nvalue = [1, 13]'),\n",
              " Text(0.08333333333333333, 0.75, 'gini = 0.0\\nsamples = 11\\nvalue = [0, 11]'),\n",
              " Text(0.25, 0.75, 'x[0] <= -0.724\\ngini = 0.444\\nsamples = 3\\nvalue = [1, 2]'),\n",
              " Text(0.16666666666666666, 0.65, 'gini = 0.0\\nsamples = 1\\nvalue = [1, 0]'),\n",
              " Text(0.3333333333333333, 0.65, 'gini = 0.0\\nsamples = 2\\nvalue = [0, 2]'),\n",
              " Text(0.5, 0.85, 'x[1] <= 1.141\\ngini = 0.401\\nsamples = 36\\nvalue = [26, 10]'),\n",
              " Text(0.4166666666666667, 0.75, 'gini = 0.0\\nsamples = 12\\nvalue = [12, 0]'),\n",
              " Text(0.5833333333333334, 0.75, 'x[1] <= 1.277\\ngini = 0.486\\nsamples = 24\\nvalue = [14, 10]'),\n",
              " Text(0.5, 0.65, 'gini = 0.0\\nsamples = 3\\nvalue = [0, 3]'),\n",
              " Text(0.6666666666666666, 0.65, 'x[1] <= 3.565\\ngini = 0.444\\nsamples = 21\\nvalue = [14, 7]'),\n",
              " Text(0.5833333333333334, 0.55, 'x[0] <= -0.198\\ngini = 0.388\\nsamples = 19\\nvalue = [14, 5]'),\n",
              " Text(0.5, 0.45, 'gini = 0.0\\nsamples = 1\\nvalue = [0, 1]'),\n",
              " Text(0.6666666666666666, 0.45, 'x[0] <= 0.484\\ngini = 0.346\\nsamples = 18\\nvalue = [14, 4]'),\n",
              " Text(0.5833333333333334, 0.35, 'gini = 0.0\\nsamples = 7\\nvalue = [7, 0]'),\n",
              " Text(0.75, 0.35, 'x[0] <= 0.691\\ngini = 0.463\\nsamples = 11\\nvalue = [7, 4]'),\n",
              " Text(0.6666666666666666, 0.25, 'gini = 0.0\\nsamples = 2\\nvalue = [0, 2]'),\n",
              " Text(0.8333333333333334, 0.25, 'x[1] <= 1.633\\ngini = 0.346\\nsamples = 9\\nvalue = [7, 2]'),\n",
              " Text(0.75, 0.15, 'x[0] <= 1.004\\ngini = 0.444\\nsamples = 3\\nvalue = [1, 2]'),\n",
              " Text(0.6666666666666666, 0.05, 'gini = 0.0\\nsamples = 1\\nvalue = [1, 0]'),\n",
              " Text(0.8333333333333334, 0.05, 'gini = 0.0\\nsamples = 2\\nvalue = [0, 2]'),\n",
              " Text(0.9166666666666666, 0.15, 'gini = 0.0\\nsamples = 6\\nvalue = [6, 0]'),\n",
              " Text(0.75, 0.55, 'gini = 0.0\\nsamples = 2\\nvalue = [0, 2]')]"
            ]
          },
          "metadata": {},
          "execution_count": 146
        },
        {
          "output_type": "display_data",
          "data": {
            "text/plain": [
              "<Figure size 640x480 with 1 Axes>"
            ],
            "image/png": "[encoded data removed]"
          },
          "metadata": {}
        }
      ]
    },
    {
      "cell_type": "code",
      "source": [
        "plot_tree(clf2)"
      ],
      "metadata": {
        "colab": {
          "base_uri": "https://localhost:8080/",
          "height": 666
        },
        "id": "lG5Z8ORC4kj8",
        "outputId": "9566e025-5ab4-49f2-e78a-f640ed1cb6cf"
      },
      "execution_count": 147,
      "outputs": [
        {
          "output_type": "execute_result",
          "data": {
            "text/plain": [
              "[Text(0.5555555555555556, 0.9166666666666666, 'x[0] <= 0.042\\ngini = 0.493\\nsamples = 50\\nvalue = [22, 28]'),\n",
              " Text(0.3333333333333333, 0.75, 'x[1] <= 0.417\\ngini = 0.091\\nsamples = 21\\nvalue = [20, 1]'),\n",
              " Text(0.2222222222222222, 0.5833333333333334, 'x[0] <= -1.275\\ngini = 0.375\\nsamples = 4\\nvalue = [3, 1]'),\n",
              " Text(0.1111111111111111, 0.4166666666666667, 'gini = 0.0\\nsamples = 1\\nvalue = [0, 1]'),\n",
              " Text(0.3333333333333333, 0.4166666666666667, 'gini = 0.0\\nsamples = 3\\nvalue = [3, 0]'),\n",
              " Text(0.4444444444444444, 0.5833333333333334, 'gini = 0.0\\nsamples = 17\\nvalue = [17, 0]'),\n",
              " Text(0.7777777777777778, 0.75, 'x[0] <= 1.255\\ngini = 0.128\\nsamples = 29\\nvalue = [2, 27]'),\n",
              " Text(0.6666666666666666, 0.5833333333333334, 'x[0] <= 1.122\\ngini = 0.219\\nsamples = 16\\nvalue = [2, 14]'),\n",
              " Text(0.5555555555555556, 0.4166666666666667, 'x[1] <= 1.761\\ngini = 0.124\\nsamples = 15\\nvalue = [1, 14]'),\n",
              " Text(0.4444444444444444, 0.25, 'gini = 0.0\\nsamples = 12\\nvalue = [0, 12]'),\n",
              " Text(0.6666666666666666, 0.25, 'x[1] <= 1.99\\ngini = 0.444\\nsamples = 3\\nvalue = [1, 2]'),\n",
              " Text(0.5555555555555556, 0.08333333333333333, 'gini = 0.0\\nsamples = 1\\nvalue = [1, 0]'),\n",
              " Text(0.7777777777777778, 0.08333333333333333, 'gini = 0.0\\nsamples = 2\\nvalue = [0, 2]'),\n",
              " Text(0.7777777777777778, 0.4166666666666667, 'gini = 0.0\\nsamples = 1\\nvalue = [1, 0]'),\n",
              " Text(0.8888888888888888, 0.5833333333333334, 'gini = 0.0\\nsamples = 13\\nvalue = [0, 13]')]"
            ]
          },
          "metadata": {},
          "execution_count": 147
        },
        {
          "output_type": "display_data",
          "data": {
            "text/plain": [
              "<Figure size 640x480 with 1 Axes>"
            ],
            "image/png": "[encoded data removed]"
          },
          "metadata": {}
        }
      ]
    },
    {
      "cell_type": "code",
      "source": [
        "plot_tree(clf3)"
      ],
      "metadata": {
        "colab": {
          "base_uri": "https://localhost:8080/",
          "height": 909
        },
        "id": "VthEBPE14nYz",
        "outputId": "e92a73d2-fc51-423f-a211-5812b6602a50"
      },
      "execution_count": 148,
      "outputs": [
        {
          "output_type": "execute_result",
          "data": {
            "text/plain": [
              "[Text(0.2897727272727273, 0.9375, 'x[1] <= -0.129\\ngini = 0.499\\nsamples = 50\\nvalue = [24, 26]'),\n",
              " Text(0.13636363636363635, 0.8125, 'x[0] <= 0.32\\ngini = 0.105\\nsamples = 18\\nvalue = [17, 1]'),\n",
              " Text(0.09090909090909091, 0.6875, 'x[0] <= 0.037\\ngini = 0.375\\nsamples = 4\\nvalue = [3, 1]'),\n",
              " Text(0.045454545454545456, 0.5625, 'gini = 0.0\\nsamples = 3\\nvalue = [3, 0]'),\n",
              " Text(0.13636363636363635, 0.5625, 'gini = 0.0\\nsamples = 1\\nvalue = [0, 1]'),\n",
              " Text(0.18181818181818182, 0.6875, 'gini = 0.0\\nsamples = 14\\nvalue = [14, 0]'),\n",
              " Text(0.4431818181818182, 0.8125, 'x[0] <= -0.017\\ngini = 0.342\\nsamples = 32\\nvalue = [7, 25]'),\n",
              " Text(0.2727272727272727, 0.6875, 'x[0] <= -0.487\\ngini = 0.444\\nsamples = 3\\nvalue = [2, 1]'),\n",
              " Text(0.22727272727272727, 0.5625, 'gini = 0.0\\nsamples = 1\\nvalue = [1, 0]'),\n",
              " Text(0.3181818181818182, 0.5625, 'x[0] <= -0.141\\ngini = 0.5\\nsamples = 2\\nvalue = [1, 1]'),\n",
              " Text(0.2727272727272727, 0.4375, 'gini = 0.0\\nsamples = 1\\nvalue = [0, 1]'),\n",
              " Text(0.36363636363636365, 0.4375, 'gini = 0.0\\nsamples = 1\\nvalue = [1, 0]'),\n",
              " Text(0.6136363636363636, 0.6875, 'x[0] <= 1.129\\ngini = 0.285\\nsamples = 29\\nvalue = [5, 24]'),\n",
              " Text(0.5, 0.5625, 'x[1] <= 1.477\\ngini = 0.111\\nsamples = 17\\nvalue = [1, 16]'),\n",
              " Text(0.45454545454545453, 0.4375, 'gini = 0.0\\nsamples = 11\\nvalue = [0, 11]'),\n",
              " Text(0.5454545454545454, 0.4375, 'x[1] <= 1.568\\ngini = 0.278\\nsamples = 6\\nvalue = [1, 5]'),\n",
              " Text(0.5, 0.3125, 'gini = 0.0\\nsamples = 1\\nvalue = [1, 0]'),\n",
              " Text(0.5909090909090909, 0.3125, 'gini = 0.0\\nsamples = 5\\nvalue = [0, 5]'),\n",
              " Text(0.7272727272727273, 0.5625, 'x[0] <= 1.248\\ngini = 0.444\\nsamples = 12\\nvalue = [4, 8]'),\n",
              " Text(0.6818181818181818, 0.4375, 'gini = 0.0\\nsamples = 2\\nvalue = [2, 0]'),\n",
              " Text(0.7727272727272727, 0.4375, 'x[1] <= 0.171\\ngini = 0.32\\nsamples = 10\\nvalue = [2, 8]'),\n",
              " Text(0.6818181818181818, 0.3125, 'x[1] <= -0.012\\ngini = 0.5\\nsamples = 2\\nvalue = [1, 1]'),\n",
              " Text(0.6363636363636364, 0.1875, 'gini = 0.0\\nsamples = 1\\nvalue = [0, 1]'),\n",
              " Text(0.7272727272727273, 0.1875, 'gini = 0.0\\nsamples = 1\\nvalue = [1, 0]'),\n",
              " Text(0.8636363636363636, 0.3125, 'x[1] <= 0.703\\ngini = 0.219\\nsamples = 8\\nvalue = [1, 7]'),\n",
              " Text(0.8181818181818182, 0.1875, 'gini = 0.0\\nsamples = 4\\nvalue = [0, 4]'),\n",
              " Text(0.9090909090909091, 0.1875, 'x[1] <= 1.32\\ngini = 0.375\\nsamples = 4\\nvalue = [1, 3]'),\n",
              " Text(0.8636363636363636, 0.0625, 'gini = 0.0\\nsamples = 1\\nvalue = [1, 0]'),\n",
              " Text(0.9545454545454546, 0.0625, 'gini = 0.0\\nsamples = 3\\nvalue = [0, 3]')]"
            ]
          },
          "metadata": {},
          "execution_count": 148
        },
        {
          "output_type": "display_data",
          "data": {
            "text/plain": [
              "<Figure size 640x480 with 1 Axes>"
            ],
            "image/png": "[encoded data removed]"
          },
          "metadata": {}
        }
      ]
    },
    {
      "cell_type": "code",
      "source": [
        "df1"
      ],
      "metadata": {
        "colab": {
          "base_uri": "https://localhost:8080/",
          "height": 1000
        },
        "id": "d-SNqcO74pcW",
        "outputId": "f9197b8d-337b-4fb7-d707-ab9e4de23e7f"
      },
      "execution_count": 149,
      "outputs": [
        {
          "output_type": "execute_result",
          "data": {
            "text/plain": [
              "        col1      col2  target\n",
              "97 -0.613109  0.763048       1\n",
              "55 -1.865171  0.148206       1\n",
              "77  5.622637 -0.742217       0\n",
              "57 -0.951024 -0.174119       1\n",
              "68  0.742761  2.240264       0\n",
              "60  3.395160  0.670760       0\n",
              "34  0.309551  1.776235       0\n",
              "19  2.524000  1.663406       0\n",
              "22  0.695446  3.739378       1\n",
              "16  0.657985  2.051867       1\n",
              "13 -0.210462 -0.769971       0\n",
              "72 -0.609181  0.963047       0\n",
              "48 -0.020483  1.246073       1\n",
              "19  2.524000  1.663406       0\n",
              "48 -0.020483  1.246073       1\n",
              "1  -0.254921  1.376069       1\n",
              "48 -0.020483  1.246073       1\n",
              "57 -0.951024 -0.174119       1\n",
              "64 -0.140892  1.835895       0\n",
              "32 -2.947222  1.002040       1\n",
              "30  0.779139  0.614167       0\n",
              "71 -1.497610  1.228222       1\n",
              "23 -1.025572  0.438240       1\n",
              "13 -0.210462 -0.769971       0\n",
              "79 -0.014919  1.359452       0\n",
              "95  0.723521  1.590049       0\n",
              "71 -1.497610  1.228222       1\n",
              "61  1.284819  1.602904       1\n",
              "54 -0.105705  0.940092       0\n",
              "16  0.657985  2.051867       1\n",
              "22  0.695446  3.739378       1\n",
              "54 -0.105705  0.940092       0\n",
              "19  2.524000  1.663406       0\n",
              "50  0.193814  3.390605       0\n",
              "87 -0.015196  1.735948       0\n",
              "2  -0.942192  0.044610       1\n",
              "28  1.694197 -0.078781       0\n",
              "57 -0.951024 -0.174119       1\n",
              "64 -0.140892  1.835895       0\n",
              "72 -0.609181  0.963047       0\n",
              "61  1.284819  1.602904       1\n",
              "27 -0.109437  1.307815       0\n",
              "89 -0.643819  1.268317       1\n",
              "42  0.354102  1.036729       0\n",
              "94 -1.665057  0.976740       1\n",
              "51 -0.804435  0.645717       0\n",
              "67 -1.643821 -0.215079       1\n",
              "30  0.779139  0.614167       0\n",
              "5   1.205753  1.710929       0\n",
              "66  1.337103  2.396391       0"
            ],
            "text/html": [
              "\n",
              "  <div id=\"df-3c3190ba-cdcd-4b54-a99e-20c5c7061973\" class=\"colab-df-container\">\n",
              "    <div>\n",
              "<style scoped>\n",
              "    .dataframe tbody tr th:only-of-type {\n",
              "        vertical-align: middle;\n",
              "    }\n",
              "\n",
              "    .dataframe tbody tr th {\n",
              "        vertical-align: top;\n",
              "    }\n",
              "\n",
              "    .dataframe thead th {\n",
              "        text-align: right;\n",
              "    }\n",
              "</style>\n",
              "<table border=\"1\" class=\"dataframe\">\n",
              "  <thead>\n",
              "    <tr style=\"text-align: right;\">\n",
              "      <th></th>\n",
              "      <th>col1</th>\n",
              "      <th>col2</th>\n",
              "      <th>target</th>\n",
              "    </tr>\n",
              "  </thead>\n",
              "  <tbody>\n",
              "    <tr>\n",
              "      <th>97</th>\n",
              "      <td>-0.613109</td>\n",
              "      <td>0.763048</td>\n",
              "      <td>1</td>\n",
              "    </tr>\n",
              "    <tr>\n",
              "      <th>55</th>\n",
              "      <td>-1.865171</td>\n",
              "      <td>0.148206</td>\n",
              "      <td>1</td>\n",
              "    </tr>\n",
              "    <tr>\n",
              "      <th>77</th>\n",
              "      <td>5.622637</td>\n",
              "      <td>-0.742217</td>\n",
              "      <td>0</td>\n",
              "    </tr>\n",
              "    <tr>\n",
              "      <th>57</th>\n",
              "      <td>-0.951024</td>\n",
              "      <td>-0.174119</td>\n",
              "      <td>1</td>\n",
              "    </tr>\n",
              "    <tr>\n",
              "      <th>68</th>\n",
              "      <td>0.742761</td>\n",
              "      <td>2.240264</td>\n",
              "      <td>0</td>\n",
              "    </tr>\n",
              "    <tr>\n",
              "      <th>60</th>\n",
              "      <td>3.395160</td>\n",
              "      <td>0.670760</td>\n",
              "      <td>0</td>\n",
              "    </tr>\n",
              "    <tr>\n",
              "      <th>34</th>\n",
              "      <td>0.309551</td>\n",
              "      <td>1.776235</td>\n",
              "      <td>0</td>\n",
              "    </tr>\n",
              "    <tr>\n",
              "      <th>19</th>\n",
              "      <td>2.524000</td>\n",
              "      <td>1.663406</td>\n",
              "      <td>0</td>\n",
              "    </tr>\n",
              "    <tr>\n",
              "      <th>22</th>\n",
              "      <td>0.695446</td>\n",
              "      <td>3.739378</td>\n",
              "      <td>1</td>\n",
              "    </tr>\n",
              "    <tr>\n",
              "      <th>16</th>\n",
              "      <td>0.657985</td>\n",
              "      <td>2.051867</td>\n",
              "      <td>1</td>\n",
              "    </tr>\n",
              "    <tr>\n",
              "      <th>13</th>\n",
              "      <td>-0.210462</td>\n",
              "      <td>-0.769971</td>\n",
              "      <td>0</td>\n",
              "    </tr>\n",
              "    <tr>\n",
              "      <th>72</th>\n",
              "      <td>-0.609181</td>\n",
              "      <td>0.963047</td>\n",
              "      <td>0</td>\n",
              "    </tr>\n",
              "    <tr>\n",
              "      <th>48</th>\n",
              "      <td>-0.020483</td>\n",
              "      <td>1.246073</td>\n",
              "      <td>1</td>\n",
              "    </tr>\n",
              "    <tr>\n",
              "      <th>19</th>\n",
              "      <td>2.524000</td>\n",
              "      <td>1.663406</td>\n",
              "      <td>0</td>\n",
              "    </tr>\n",
              "    <tr>\n",
              "      <th>48</th>\n",
              "      <td>-0.020483</td>\n",
              "      <td>1.246073</td>\n",
              "      <td>1</td>\n",
              "    </tr>\n",
              "    <tr>\n",
              "      <th>1</th>\n",
              "      <td>-0.254921</td>\n",
              "      <td>1.376069</td>\n",
              "      <td>1</td>\n",
              "    </tr>\n",
              "    <tr>\n",
              "      <th>48</th>\n",
              "      <td>-0.020483</td>\n",
              "      <td>1.246073</td>\n",
              "      <td>1</td>\n",
              "    </tr>\n",
              "    <tr>\n",
              "      <th>57</th>\n",
              "      <td>-0.951024</td>\n",
              "      <td>-0.174119</td>\n",
              "      <td>1</td>\n",
              "    </tr>\n",
              "    <tr>\n",
              "      <th>64</th>\n",
              "      <td>-0.140892</td>\n",
              "      <td>1.835895</td>\n",
              "      <td>0</td>\n",
              "    </tr>\n",
              "    <tr>\n",
              "      <th>32</th>\n",
              "      <td>-2.947222</td>\n",
              "      <td>1.002040</td>\n",
              "      <td>1</td>\n",
              "    </tr>\n",
              "    <tr>\n",
              "      <th>30</th>\n",
              "      <td>0.779139</td>\n",
              "      <td>0.614167</td>\n",
              "      <td>0</td>\n",
              "    </tr>\n",
              "    <tr>\n",
              "      <th>71</th>\n",
              "      <td>-1.497610</td>\n",
              "      <td>1.228222</td>\n",
              "      <td>1</td>\n",
              "    </tr>\n",
              "    <tr>\n",
              "      <th>23</th>\n",
              "      <td>-1.025572</td>\n",
              "      <td>0.438240</td>\n",
              "      <td>1</td>\n",
              "    </tr>\n",
              "    <tr>\n",
              "      <th>13</th>\n",
              "      <td>-0.210462</td>\n",
              "      <td>-0.769971</td>\n",
              "      <td>0</td>\n",
              "    </tr>\n",
              "    <tr>\n",
              "      <th>79</th>\n",
              "      <td>-0.014919</td>\n",
              "      <td>1.359452</td>\n",
              "      <td>0</td>\n",
              "    </tr>\n",
              "    <tr>\n",
              "      <th>95</th>\n",
              "      <td>0.723521</td>\n",
              "      <td>1.590049</td>\n",
              "      <td>0</td>\n",
              "    </tr>\n",
              "    <tr>\n",
              "      <th>71</th>\n",
              "      <td>-1.497610</td>\n",
              "      <td>1.228222</td>\n",
              "      <td>1</td>\n",
              "    </tr>\n",
              "    <tr>\n",
              "      <th>61</th>\n",
              "      <td>1.284819</td>\n",
              "      <td>1.602904</td>\n",
              "      <td>1</td>\n",
              "    </tr>\n",
              "    <tr>\n",
              "      <th>54</th>\n",
              "      <td>-0.105705</td>\n",
              "      <td>0.940092</td>\n",
              "      <td>0</td>\n",
              "    </tr>\n",
              "    <tr>\n",
              "      <th>16</th>\n",
              "      <td>0.657985</td>\n",
              "      <td>2.051867</td>\n",
              "      <td>1</td>\n",
              "    </tr>\n",
              "    <tr>\n",
              "      <th>22</th>\n",
              "      <td>0.695446</td>\n",
              "      <td>3.739378</td>\n",
              "      <td>1</td>\n",
              "    </tr>\n",
              "    <tr>\n",
              "      <th>54</th>\n",
              "      <td>-0.105705</td>\n",
              "      <td>0.940092</td>\n",
              "      <td>0</td>\n",
              "    </tr>\n",
              "    <tr>\n",
              "      <th>19</th>\n",
              "      <td>2.524000</td>\n",
              "      <td>1.663406</td>\n",
              "      <td>0</td>\n",
              "    </tr>\n",
              "    <tr>\n",
              "      <th>50</th>\n",
              "      <td>0.193814</td>\n",
              "      <td>3.390605</td>\n",
              "      <td>0</td>\n",
              "    </tr>\n",
              "    <tr>\n",
              "      <th>87</th>\n",
              "      <td>-0.015196</td>\n",
              "      <td>1.735948</td>\n",
              "      <td>0</td>\n",
              "    </tr>\n",
              "    <tr>\n",
              "      <th>2</th>\n",
              "      <td>-0.942192</td>\n",
              "      <td>0.044610</td>\n",
              "      <td>1</td>\n",
              "    </tr>\n",
              "    <tr>\n",
              "      <th>28</th>\n",
              "      <td>1.694197</td>\n",
              "      <td>-0.078781</td>\n",
              "      <td>0</td>\n",
              "    </tr>\n",
              "    <tr>\n",
              "      <th>57</th>\n",
              "      <td>-0.951024</td>\n",
              "      <td>-0.174119</td>\n",
              "      <td>1</td>\n",
              "    </tr>\n",
              "    <tr>\n",
              "      <th>64</th>\n",
              "      <td>-0.140892</td>\n",
              "      <td>1.835895</td>\n",
              "      <td>0</td>\n",
              "    </tr>\n",
              "    <tr>\n",
              "      <th>72</th>\n",
              "      <td>-0.609181</td>\n",
              "      <td>0.963047</td>\n",
              "      <td>0</td>\n",
              "    </tr>\n",
              "    <tr>\n",
              "      <th>61</th>\n",
              "      <td>1.284819</td>\n",
              "      <td>1.602904</td>\n",
              "      <td>1</td>\n",
              "    </tr>\n",
              "    <tr>\n",
              "      <th>27</th>\n",
              "      <td>-0.109437</td>\n",
              "      <td>1.307815</td>\n",
              "      <td>0</td>\n",
              "    </tr>\n",
              "    <tr>\n",
              "      <th>89</th>\n",
              "      <td>-0.643819</td>\n",
              "      <td>1.268317</td>\n",
              "      <td>1</td>\n",
              "    </tr>\n",
              "    <tr>\n",
              "      <th>42</th>\n",
              "      <td>0.354102</td>\n",
              "      <td>1.036729</td>\n",
              "      <td>0</td>\n",
              "    </tr>\n",
              "    <tr>\n",
              "      <th>94</th>\n",
              "      <td>-1.665057</td>\n",
              "      <td>0.976740</td>\n",
              "      <td>1</td>\n",
              "    </tr>\n",
              "    <tr>\n",
              "      <th>51</th>\n",
              "      <td>-0.804435</td>\n",
              "      <td>0.645717</td>\n",
              "      <td>0</td>\n",
              "    </tr>\n",
              "    <tr>\n",
              "      <th>67</th>\n",
              "      <td>-1.643821</td>\n",
              "      <td>-0.215079</td>\n",
              "      <td>1</td>\n",
              "    </tr>\n",
              "    <tr>\n",
              "      <th>30</th>\n",
              "      <td>0.779139</td>\n",
              "      <td>0.614167</td>\n",
              "      <td>0</td>\n",
              "    </tr>\n",
              "    <tr>\n",
              "      <th>5</th>\n",
              "      <td>1.205753</td>\n",
              "      <td>1.710929</td>\n",
              "      <td>0</td>\n",
              "    </tr>\n",
              "    <tr>\n",
              "      <th>66</th>\n",
              "      <td>1.337103</td>\n",
              "      <td>2.396391</td>\n",
              "      <td>0</td>\n",
              "    </tr>\n",
              "  </tbody>\n",
              "</table>\n",
              "</div>\n",
              "    <div class=\"colab-df-buttons\">\n",
              "\n",
              "  <div class=\"colab-df-container\">\n",
              "    <button class=\"colab-df-convert\" onclick=\"convertToInteractive('df-3c3190ba-cdcd-4b54-a99e-20c5c7061973')\"\n",
              "            title=\"Convert this dataframe to an interactive table.\"\n",
              "            style=\"display:none;\">\n",
              "\n",
              "  <svg xmlns=\"http://www.w3.org/2000/svg\" height=\"24px\" viewBox=\"0 -960 960 960\">\n",
              "    <path d=\"M120-120v-720h720v720H120Zm60-500h600v-160H180v160Zm220 220h160v-160H400v160Zm0 220h160v-160H400v160ZM180-400h160v-160H180v160Zm440 0h160v-160H620v160ZM180-180h160v-160H180v160Zm440 0h160v-160H620v160Z\"/>\n",
              "  </svg>\n",
              "    </button>\n",
              "\n",
              "  <style>\n",
              "    .colab-df-container {\n",
              "      display:flex;\n",
              "      gap: 12px;\n",
              "    }\n",
              "\n",
              "    .colab-df-convert {\n",
              "      background-color: #E8F0FE;\n",
              "      border: none;\n",
              "      border-radius: 50%;\n",
              "      cursor: pointer;\n",
              "      display: none;\n",
              "      fill: #1967D2;\n",
              "      height: 32px;\n",
              "      padding: 0 0 0 0;\n",
              "      width: 32px;\n",
              "    }\n",
              "\n",
              "    .colab-df-convert:hover {\n",
              "      background-color: #E2EBFA;\n",
              "      box-shadow: 0px 1px 2px rgba(60, 64, 67, 0.3), 0px 1px 3px 1px rgba(60, 64, 67, 0.15);\n",
              "      fill: #174EA6;\n",
              "    }\n",
              "\n",
              "    .colab-df-buttons div {\n",
              "      margin-bottom: 4px;\n",
              "    }\n",
              "\n",
              "    [theme=dark] .colab-df-convert {\n",
              "      background-color: #3B4455;\n",
              "      fill: #D2E3FC;\n",
              "    }\n",
              "\n",
              "    [theme=dark] .colab-df-convert:hover {\n",
              "      background-color: #434B5C;\n",
              "      box-shadow: 0px 1px 3px 1px rgba(0, 0, 0, 0.15);\n",
              "      filter: drop-shadow(0px 1px 2px rgba(0, 0, 0, 0.3));\n",
              "      fill: #FFFFFF;\n",
              "    }\n",
              "  </style>\n",
              "\n",
              "    <script>\n",
              "      const buttonEl =\n",
              "        document.querySelector('#df-3c3190ba-cdcd-4b54-a99e-20c5c7061973 button.colab-df-convert');\n",
              "      buttonEl.style.display =\n",
              "        google.colab.kernel.accessAllowed ? 'block' : 'none';\n",
              "\n",
              "      async function convertToInteractive(key) {\n",
              "        const element = document.querySelector('#df-3c3190ba-cdcd-4b54-a99e-20c5c7061973');\n",
              "        const dataTable =\n",
              "          await google.colab.kernel.invokeFunction('convertToInteractive',\n",
              "                                                    [key], {});\n",
              "        if (!dataTable) return;\n",
              "\n",
              "        const docLinkHtml = 'Like what you see? Visit the ' +\n",
              "          '<a target=\"_blank\" href=https://colab.research.google.com/notebooks/data_table.ipynb>data table notebook</a>'\n",
              "          + ' to learn more about interactive tables.';\n",
              "        element.innerHTML = '';\n",
              "        dataTable['output_type'] = 'display_data';\n",
              "        await google.colab.output.renderOutput(dataTable, element);\n",
              "        const docLink = document.createElement('div');\n",
              "        docLink.innerHTML = docLinkHtml;\n",
              "        element.appendChild(docLink);\n",
              "      }\n",
              "    </script>\n",
              "  </div>\n",
              "\n",
              "\n",
              "<div id=\"df-505e4f50-5e20-4403-bb47-17278be7aec0\">\n",
              "  <button class=\"colab-df-quickchart\" onclick=\"quickchart('df-505e4f50-5e20-4403-bb47-17278be7aec0')\"\n",
              "            title=\"Suggest charts\"\n",
              "            style=\"display:none;\">\n",
              "\n",
              "<svg xmlns=\"http://www.w3.org/2000/svg\" height=\"24px\"viewBox=\"0 0 24 24\"\n",
              "     width=\"24px\">\n",
              "    <g>\n",
              "        <path d=\"M19 3H5c-1.1 0-2 .9-2 2v14c0 1.1.9 2 2 2h14c1.1 0 2-.9 2-2V5c0-1.1-.9-2-2-2zM9 17H7v-7h2v7zm4 0h-2V7h2v10zm4 0h-2v-4h2v4z\"/>\n",
              "    </g>\n",
              "</svg>\n",
              "  </button>\n",
              "\n",
              "<style>\n",
              "  .colab-df-quickchart {\n",
              "      --bg-color: #E8F0FE;\n",
              "      --fill-color: #1967D2;\n",
              "      --hover-bg-color: #E2EBFA;\n",
              "      --hover-fill-color: #174EA6;\n",
              "      --disabled-fill-color: #AAA;\n",
              "      --disabled-bg-color: #DDD;\n",
              "  }\n",
              "\n",
              "  [theme=dark] .colab-df-quickchart {\n",
              "      --bg-color: #3B4455;\n",
              "      --fill-color: #D2E3FC;\n",
              "      --hover-bg-color: #434B5C;\n",
              "      --hover-fill-color: #FFFFFF;\n",
              "      --disabled-bg-color: #3B4455;\n",
              "      --disabled-fill-color: #666;\n",
              "  }\n",
              "\n",
              "  .colab-df-quickchart {\n",
              "    background-color: var(--bg-color);\n",
              "    border: none;\n",
              "    border-radius: 50%;\n",
              "    cursor: pointer;\n",
              "    display: none;\n",
              "    fill: var(--fill-color);\n",
              "    height: 32px;\n",
              "    padding: 0;\n",
              "    width: 32px;\n",
              "  }\n",
              "\n",
              "  .colab-df-quickchart:hover {\n",
              "    background-color: var(--hover-bg-color);\n",
              "    box-shadow: 0 1px 2px rgba(60, 64, 67, 0.3), 0 1px 3px 1px rgba(60, 64, 67, 0.15);\n",
              "    fill: var(--button-hover-fill-color);\n",
              "  }\n",
              "\n",
              "  .colab-df-quickchart-complete:disabled,\n",
              "  .colab-df-quickchart-complete:disabled:hover {\n",
              "    background-color: var(--disabled-bg-color);\n",
              "    fill: var(--disabled-fill-color);\n",
              "    box-shadow: none;\n",
              "  }\n",
              "\n",
              "  .colab-df-spinner {\n",
              "    border: 2px solid var(--fill-color);\n",
              "    border-color: transparent;\n",
              "    border-bottom-color: var(--fill-color);\n",
              "    animation:\n",
              "      spin 1s steps(1) infinite;\n",
              "  }\n",
              "\n",
              "  @keyframes spin {\n",
              "    0% {\n",
              "      border-color: transparent;\n",
              "      border-bottom-color: var(--fill-color);\n",
              "      border-left-color: var(--fill-color);\n",
              "    }\n",
              "    20% {\n",
              "      border-color: transparent;\n",
              "      border-left-color: var(--fill-color);\n",
              "      border-top-color: var(--fill-color);\n",
              "    }\n",
              "    30% {\n",
              "      border-color: transparent;\n",
              "      border-left-color: var(--fill-color);\n",
              "      border-top-color: var(--fill-color);\n",
              "      border-right-color: var(--fill-color);\n",
              "    }\n",
              "    40% {\n",
              "      border-color: transparent;\n",
              "      border-right-color: var(--fill-color);\n",
              "      border-top-color: var(--fill-color);\n",
              "    }\n",
              "    60% {\n",
              "      border-color: transparent;\n",
              "      border-right-color: var(--fill-color);\n",
              "    }\n",
              "    80% {\n",
              "      border-color: transparent;\n",
              "      border-right-color: var(--fill-color);\n",
              "      border-bottom-color: var(--fill-color);\n",
              "    }\n",
              "    90% {\n",
              "      border-color: transparent;\n",
              "      border-bottom-color: var(--fill-color);\n",
              "    }\n",
              "  }\n",
              "</style>\n",
              "\n",
              "  <script>\n",
              "    async function quickchart(key) {\n",
              "      const quickchartButtonEl =\n",
              "        document.querySelector('#' + key + ' button');\n",
              "      quickchartButtonEl.disabled = true;  // To prevent multiple clicks.\n",
              "      quickchartButtonEl.classList.add('colab-df-spinner');\n",
              "      try {\n",
              "        const charts = await google.colab.kernel.invokeFunction(\n",
              "            'suggestCharts', [key], {});\n",
              "      } catch (error) {\n",
              "        console.error('Error during call to suggestCharts:', error);\n",
              "      }\n",
              "      quickchartButtonEl.classList.remove('colab-df-spinner');\n",
              "      quickchartButtonEl.classList.add('colab-df-quickchart-complete');\n",
              "    }\n",
              "    (() => {\n",
              "      let quickchartButtonEl =\n",
              "        document.querySelector('#df-505e4f50-5e20-4403-bb47-17278be7aec0 button');\n",
              "      quickchartButtonEl.style.display =\n",
              "        google.colab.kernel.accessAllowed ? 'block' : 'none';\n",
              "    })();\n",
              "  </script>\n",
              "</div>\n",
              "\n",
              "  <div id=\"id_dc2c0f83-086d-48ce-acd9-3aee4cc13ca0\">\n",
              "    <style>\n",
              "      .colab-df-generate {\n",
              "        background-color: #E8F0FE;\n",
              "        border: none;\n",
              "        border-radius: 50%;\n",
              "        cursor: pointer;\n",
              "        display: none;\n",
              "        fill: #1967D2;\n",
              "        height: 32px;\n",
              "        padding: 0 0 0 0;\n",
              "        width: 32px;\n",
              "      }\n",
              "\n",
              "      .colab-df-generate:hover {\n",
              "        background-color: #E2EBFA;\n",
              "        box-shadow: 0px 1px 2px rgba(60, 64, 67, 0.3), 0px 1px 3px 1px rgba(60, 64, 67, 0.15);\n",
              "        fill: #174EA6;\n",
              "      }\n",
              "\n",
              "      [theme=dark] .colab-df-generate {\n",
              "        background-color: #3B4455;\n",
              "        fill: #D2E3FC;\n",
              "      }\n",
              "\n",
              "      [theme=dark] .colab-df-generate:hover {\n",
              "        background-color: #434B5C;\n",
              "        box-shadow: 0px 1px 3px 1px rgba(0, 0, 0, 0.15);\n",
              "        filter: drop-shadow(0px 1px 2px rgba(0, 0, 0, 0.3));\n",
              "        fill: #FFFFFF;\n",
              "      }\n",
              "    </style>\n",
              "    <button class=\"colab-df-generate\" onclick=\"generateWithVariable('df1')\"\n",
              "            title=\"Generate code using this dataframe.\"\n",
              "            style=\"display:none;\">\n",
              "\n",
              "  <svg xmlns=\"http://www.w3.org/2000/svg\" height=\"24px\"viewBox=\"0 0 24 24\"\n",
              "       width=\"24px\">\n",
              "    <path d=\"M7,19H8.4L18.45,9,17,7.55,7,17.6ZM5,21V16.75L18.45,3.32a2,2,0,0,1,2.83,0l1.4,1.43a1.91,1.91,0,0,1,.58,1.4,1.91,1.91,0,0,1-.58,1.4L9.25,21ZM18.45,9,17,7.55Zm-12,3A5.31,5.31,0,0,0,4.9,8.1,5.31,5.31,0,0,0,1,6.5,5.31,5.31,0,0,0,4.9,4.9,5.31,5.31,0,0,0,6.5,1,5.31,5.31,0,0,0,8.1,4.9,5.31,5.31,0,0,0,12,6.5,5.46,5.46,0,0,0,6.5,12Z\"/>\n",
              "  </svg>\n",
              "    </button>\n",
              "    <script>\n",
              "      (() => {\n",
              "      const buttonEl =\n",
              "        document.querySelector('#id_dc2c0f83-086d-48ce-acd9-3aee4cc13ca0 button.colab-df-generate');\n",
              "      buttonEl.style.display =\n",
              "        google.colab.kernel.accessAllowed ? 'block' : 'none';\n",
              "\n",
              "      buttonEl.onclick = () => {\n",
              "        google.colab.notebook.generateWithVariable('df1');\n",
              "      }\n",
              "      })();\n",
              "    </script>\n",
              "  </div>\n",
              "\n",
              "    </div>\n",
              "  </div>\n"
            ],
            "application/vnd.google.colaboratory.intrinsic+json": {
              "type": "dataframe",
              "variable_name": "df1",
              "summary": "{\n  \"name\": \"df1\",\n  \"rows\": 50,\n  \"fields\": [\n    {\n      \"column\": \"col1\",\n      \"properties\": {\n        \"dtype\": \"number\",\n        \"std\": 1.4531331466053206,\n        \"min\": -2.9472218844250664,\n        \"max\": 5.622636769717668,\n        \"num_unique_values\": 35,\n        \"samples\": [\n          1.694196547742906,\n          -0.2549212057308362,\n          -0.015196039242650894\n        ],\n        \"semantic_type\": \"\",\n        \"description\": \"\"\n      }\n    },\n    {\n      \"column\": \"col2\",\n      \"properties\": {\n        \"dtype\": \"number\",\n        \"std\": 1.0112378329407172,\n        \"min\": -0.7699708055893633,\n        \"max\": 3.739377685875601,\n        \"num_unique_values\": 35,\n        \"samples\": [\n          -0.07878108813372942,\n          1.376068992357603,\n          1.7359478129734862\n        ],\n        \"semantic_type\": \"\",\n        \"description\": \"\"\n      }\n    },\n    {\n      \"column\": \"target\",\n      \"properties\": {\n        \"dtype\": \"number\",\n        \"std\": 0,\n        \"min\": 0,\n        \"max\": 1,\n        \"num_unique_values\": 2,\n        \"samples\": [\n          0,\n          1\n        ],\n        \"semantic_type\": \"\",\n        \"description\": \"\"\n      }\n    }\n  ]\n}"
            }
          },
          "metadata": {},
          "execution_count": 149
        }
      ]
    },
    {
      "cell_type": "code",
      "source": [
        "clf1.predict(np.array([1.284819,1.602904]).reshape(1,2))"
      ],
      "metadata": {
        "colab": {
          "base_uri": "https://localhost:8080/"
        },
        "id": "G8Mckiv043Nr",
        "outputId": "cfe457fd-8ec5-4b49-b5ce-eca8d3aa616c"
      },
      "execution_count": 150,
      "outputs": [
        {
          "output_type": "stream",
          "name": "stderr",
          "text": [
            "/usr/local/lib/python3.10/dist-packages/sklearn/base.py:439: UserWarning: X does not have valid feature names, but DecisionTreeClassifier was fitted with feature names\n",
            "  warnings.warn(\n"
          ]
        },
        {
          "output_type": "execute_result",
          "data": {
            "text/plain": [
              "array([1])"
            ]
          },
          "metadata": {},
          "execution_count": 150
        }
      ]
    },
    {
      "cell_type": "code",
      "source": [
        "clf2.predict(np.array([1.284819,1.602904]).reshape(1,2))"
      ],
      "metadata": {
        "colab": {
          "base_uri": "https://localhost:8080/"
        },
        "id": "TKOpIP6n5LPd",
        "outputId": "4c00f6a4-41f5-4bb0-8cf6-fee84ae7f415"
      },
      "execution_count": 151,
      "outputs": [
        {
          "output_type": "stream",
          "name": "stderr",
          "text": [
            "/usr/local/lib/python3.10/dist-packages/sklearn/base.py:439: UserWarning: X does not have valid feature names, but DecisionTreeClassifier was fitted with feature names\n",
            "  warnings.warn(\n"
          ]
        },
        {
          "output_type": "execute_result",
          "data": {
            "text/plain": [
              "array([1])"
            ]
          },
          "metadata": {},
          "execution_count": 151
        }
      ]
    },
    {
      "cell_type": "code",
      "source": [
        "clf3.predict(np.array([1.284819,1.602904]).reshape(1,2))"
      ],
      "metadata": {
        "colab": {
          "base_uri": "https://localhost:8080/"
        },
        "id": "wR7WUnRk5NuI",
        "outputId": "4dfef650-a094-4f3c-fe6a-f0f7d91149e5"
      },
      "execution_count": 152,
      "outputs": [
        {
          "output_type": "stream",
          "name": "stderr",
          "text": [
            "/usr/local/lib/python3.10/dist-packages/sklearn/base.py:439: UserWarning: X does not have valid feature names, but DecisionTreeClassifier was fitted with feature names\n",
            "  warnings.warn(\n"
          ]
        },
        {
          "output_type": "execute_result",
          "data": {
            "text/plain": [
              "array([1])"
            ]
          },
          "metadata": {},
          "execution_count": 152
        }
      ]
    },
    {
      "cell_type": "code",
      "source": [],
      "metadata": {
        "id": "U_uL9C9R5PY0"
      },
      "execution_count": null,
      "outputs": []
    }
  ]
}